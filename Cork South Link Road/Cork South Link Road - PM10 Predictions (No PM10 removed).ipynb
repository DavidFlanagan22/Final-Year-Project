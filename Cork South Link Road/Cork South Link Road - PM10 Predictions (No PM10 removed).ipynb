{
 "cells": [
  {
   "cell_type": "markdown",
   "metadata": {},
   "source": [
    "# Cork South Link Road - No PM10 removed"
   ]
  },
  {
   "cell_type": "markdown",
   "metadata": {},
   "source": [
    "# Import Necessary Packages"
   ]
  },
  {
   "cell_type": "code",
   "execution_count": 1,
   "metadata": {},
   "outputs": [],
   "source": [
    "import pandas as pd\n",
    "import numpy as np\n",
    "from sklearn.pipeline import Pipeline, make_pipeline, FeatureUnion\n",
    "from sklearn.compose import ColumnTransformer\n",
    "from sklearn.base import BaseEstimator, TransformerMixin\n",
    "from sklearn.preprocessing import StandardScaler, RobustScaler, FunctionTransformer\n",
    "from sklearn.model_selection import train_test_split, GridSearchCV\n",
    "import pickle\n",
    "import matplotlib.pyplot as plt\n",
    "%matplotlib inline\n",
    "import seaborn as sns\n",
    "# imports necessary for dimensionality reduction\n",
    "from sklearn.decomposition import PCA\n",
    "from sklearn.feature_selection import RFE\n",
    "from sklearn import svm\n",
    "from sklearn.decomposition import FastICA\n",
    "from sklearn.decomposition import TruncatedSVD\n",
    "from sklearn.decomposition import FactorAnalysis\n",
    "# regression algorithms\n",
    "from sklearn.ensemble import RandomForestRegressor\n",
    "from sklearn.linear_model import LinearRegression\n",
    "from sklearn.ensemble import AdaBoostRegressor\n",
    "from sklearn.ensemble import GradientBoostingRegressor\n",
    "\n",
    "from sklearn.svm import SVR\n",
    "\n",
    "# metrics for evaluating regression models\n",
    "from sklearn.metrics import mean_squared_error, mean_absolute_error, r2_score, median_absolute_error, explained_variance_score, max_error\n",
    "\n",
    "from time import process_time\n",
    "\n",
    "from sklearn.model_selection import train_test_split\n",
    "from sklearn.linear_model import Lasso\n",
    "from yellowbrick.regressor import PredictionError\n",
    "\n",
    "from sklearn.neural_network import MLPRegressor"
   ]
  },
  {
   "cell_type": "markdown",
   "metadata": {},
   "source": [
    "# Import Cleaned Data"
   ]
  },
  {
   "cell_type": "code",
   "execution_count": 2,
   "metadata": {},
   "outputs": [],
   "source": [
    "df = pd.read_csv('./Cork_FileforML.csv', thousands=',', low_memory=False)\n",
    "# You can also open with Excel and take a look at it."
   ]
  },
  {
   "cell_type": "code",
   "execution_count": 3,
   "metadata": {},
   "outputs": [],
   "source": [
    "df = df.dropna(axis=0)"
   ]
  },
  {
   "cell_type": "code",
   "execution_count": 4,
   "metadata": {},
   "outputs": [
    {
     "data": {
      "text/html": [
       "<div>\n",
       "<style scoped>\n",
       "    .dataframe tbody tr th:only-of-type {\n",
       "        vertical-align: middle;\n",
       "    }\n",
       "\n",
       "    .dataframe tbody tr th {\n",
       "        vertical-align: top;\n",
       "    }\n",
       "\n",
       "    .dataframe thead th {\n",
       "        text-align: right;\n",
       "    }\n",
       "</style>\n",
       "<table border=\"1\" class=\"dataframe\">\n",
       "  <thead>\n",
       "    <tr style=\"text-align: right;\">\n",
       "      <th></th>\n",
       "      <th>Date</th>\n",
       "      <th>Hour</th>\n",
       "      <th>indrain</th>\n",
       "      <th>rain</th>\n",
       "      <th>indtemp</th>\n",
       "      <th>temp</th>\n",
       "      <th>indwetb</th>\n",
       "      <th>wetb</th>\n",
       "      <th>dewpt</th>\n",
       "      <th>vappr</th>\n",
       "      <th>...</th>\n",
       "      <th>w</th>\n",
       "      <th>sun</th>\n",
       "      <th>vis</th>\n",
       "      <th>clht</th>\n",
       "      <th>clamt</th>\n",
       "      <th>Ozone</th>\n",
       "      <th>SO2</th>\n",
       "      <th>NO2</th>\n",
       "      <th>CO</th>\n",
       "      <th>PM10</th>\n",
       "    </tr>\n",
       "  </thead>\n",
       "  <tbody>\n",
       "    <tr>\n",
       "      <th>11427</th>\n",
       "      <td>10/11/2018 16:00</td>\n",
       "      <td>16</td>\n",
       "      <td>0</td>\n",
       "      <td>0.0</td>\n",
       "      <td>0</td>\n",
       "      <td>12.5</td>\n",
       "      <td>0</td>\n",
       "      <td>10.1</td>\n",
       "      <td>7.5</td>\n",
       "      <td>10.4</td>\n",
       "      <td>...</td>\n",
       "      <td>11</td>\n",
       "      <td>0.9</td>\n",
       "      <td>60000</td>\n",
       "      <td>999</td>\n",
       "      <td>2</td>\n",
       "      <td>42.6</td>\n",
       "      <td>3.0</td>\n",
       "      <td>35.1</td>\n",
       "      <td>0.3</td>\n",
       "      <td>33.4</td>\n",
       "    </tr>\n",
       "    <tr>\n",
       "      <th>11428</th>\n",
       "      <td>10/11/2018 17:00</td>\n",
       "      <td>17</td>\n",
       "      <td>0</td>\n",
       "      <td>0.0</td>\n",
       "      <td>0</td>\n",
       "      <td>11.9</td>\n",
       "      <td>0</td>\n",
       "      <td>10.0</td>\n",
       "      <td>8.1</td>\n",
       "      <td>10.8</td>\n",
       "      <td>...</td>\n",
       "      <td>11</td>\n",
       "      <td>0.5</td>\n",
       "      <td>50000</td>\n",
       "      <td>999</td>\n",
       "      <td>1</td>\n",
       "      <td>49.2</td>\n",
       "      <td>2.2</td>\n",
       "      <td>20.1</td>\n",
       "      <td>0.2</td>\n",
       "      <td>26.0</td>\n",
       "    </tr>\n",
       "    <tr>\n",
       "      <th>11429</th>\n",
       "      <td>10/11/2018 18:00</td>\n",
       "      <td>18</td>\n",
       "      <td>0</td>\n",
       "      <td>0.0</td>\n",
       "      <td>0</td>\n",
       "      <td>11.1</td>\n",
       "      <td>0</td>\n",
       "      <td>9.7</td>\n",
       "      <td>8.2</td>\n",
       "      <td>10.9</td>\n",
       "      <td>...</td>\n",
       "      <td>81</td>\n",
       "      <td>0.0</td>\n",
       "      <td>40000</td>\n",
       "      <td>999</td>\n",
       "      <td>4</td>\n",
       "      <td>57.0</td>\n",
       "      <td>2.2</td>\n",
       "      <td>9.2</td>\n",
       "      <td>0.2</td>\n",
       "      <td>17.0</td>\n",
       "    </tr>\n",
       "    <tr>\n",
       "      <th>11430</th>\n",
       "      <td>10/11/2018 19:00</td>\n",
       "      <td>19</td>\n",
       "      <td>0</td>\n",
       "      <td>0.0</td>\n",
       "      <td>0</td>\n",
       "      <td>11.3</td>\n",
       "      <td>0</td>\n",
       "      <td>9.9</td>\n",
       "      <td>8.4</td>\n",
       "      <td>11.1</td>\n",
       "      <td>...</td>\n",
       "      <td>11</td>\n",
       "      <td>0.0</td>\n",
       "      <td>30000</td>\n",
       "      <td>999</td>\n",
       "      <td>4</td>\n",
       "      <td>64.4</td>\n",
       "      <td>2.2</td>\n",
       "      <td>6.5</td>\n",
       "      <td>0.2</td>\n",
       "      <td>18.0</td>\n",
       "    </tr>\n",
       "    <tr>\n",
       "      <th>11431</th>\n",
       "      <td>10/11/2018 20:00</td>\n",
       "      <td>20</td>\n",
       "      <td>0</td>\n",
       "      <td>0.0</td>\n",
       "      <td>0</td>\n",
       "      <td>12.0</td>\n",
       "      <td>0</td>\n",
       "      <td>10.7</td>\n",
       "      <td>9.4</td>\n",
       "      <td>11.8</td>\n",
       "      <td>...</td>\n",
       "      <td>11</td>\n",
       "      <td>0.0</td>\n",
       "      <td>25000</td>\n",
       "      <td>18</td>\n",
       "      <td>7</td>\n",
       "      <td>66.6</td>\n",
       "      <td>2.2</td>\n",
       "      <td>5.3</td>\n",
       "      <td>0.2</td>\n",
       "      <td>14.0</td>\n",
       "    </tr>\n",
       "  </tbody>\n",
       "</table>\n",
       "<p>5 rows × 27 columns</p>\n",
       "</div>"
      ],
      "text/plain": [
       "                   Date  Hour  indrain  rain  indtemp  temp  indwetb  wetb  \\\n",
       "11427  10/11/2018 16:00    16        0   0.0        0  12.5        0  10.1   \n",
       "11428  10/11/2018 17:00    17        0   0.0        0  11.9        0  10.0   \n",
       "11429  10/11/2018 18:00    18        0   0.0        0  11.1        0   9.7   \n",
       "11430  10/11/2018 19:00    19        0   0.0        0  11.3        0   9.9   \n",
       "11431  10/11/2018 20:00    20        0   0.0        0  12.0        0  10.7   \n",
       "\n",
       "       dewpt  vappr  ...   w  sun    vis  clht  clamt  Ozone  SO2   NO2   CO  \\\n",
       "11427    7.5   10.4  ...  11  0.9  60000   999      2   42.6  3.0  35.1  0.3   \n",
       "11428    8.1   10.8  ...  11  0.5  50000   999      1   49.2  2.2  20.1  0.2   \n",
       "11429    8.2   10.9  ...  81  0.0  40000   999      4   57.0  2.2   9.2  0.2   \n",
       "11430    8.4   11.1  ...  11  0.0  30000   999      4   64.4  2.2   6.5  0.2   \n",
       "11431    9.4   11.8  ...  11  0.0  25000    18      7   66.6  2.2   5.3  0.2   \n",
       "\n",
       "       PM10  \n",
       "11427  33.4  \n",
       "11428  26.0  \n",
       "11429  17.0  \n",
       "11430  18.0  \n",
       "11431  14.0  \n",
       "\n",
       "[5 rows x 27 columns]"
      ]
     },
     "execution_count": 4,
     "metadata": {},
     "output_type": "execute_result"
    }
   ],
   "source": [
    "df.head(5)"
   ]
  },
  {
   "cell_type": "code",
   "execution_count": 5,
   "metadata": {},
   "outputs": [
    {
     "data": {
      "text/html": [
       "<div>\n",
       "<style scoped>\n",
       "    .dataframe tbody tr th:only-of-type {\n",
       "        vertical-align: middle;\n",
       "    }\n",
       "\n",
       "    .dataframe tbody tr th {\n",
       "        vertical-align: top;\n",
       "    }\n",
       "\n",
       "    .dataframe thead th {\n",
       "        text-align: right;\n",
       "    }\n",
       "</style>\n",
       "<table border=\"1\" class=\"dataframe\">\n",
       "  <thead>\n",
       "    <tr style=\"text-align: right;\">\n",
       "      <th></th>\n",
       "      <th>Date</th>\n",
       "      <th>Hour</th>\n",
       "      <th>indrain</th>\n",
       "      <th>rain</th>\n",
       "      <th>indtemp</th>\n",
       "      <th>temp</th>\n",
       "      <th>indwetb</th>\n",
       "      <th>wetb</th>\n",
       "      <th>dewpt</th>\n",
       "      <th>vappr</th>\n",
       "      <th>...</th>\n",
       "      <th>w</th>\n",
       "      <th>sun</th>\n",
       "      <th>vis</th>\n",
       "      <th>clht</th>\n",
       "      <th>clamt</th>\n",
       "      <th>Ozone</th>\n",
       "      <th>SO2</th>\n",
       "      <th>NO2</th>\n",
       "      <th>CO</th>\n",
       "      <th>PM10</th>\n",
       "    </tr>\n",
       "  </thead>\n",
       "  <tbody>\n",
       "    <tr>\n",
       "      <th>18574</th>\n",
       "      <td>31/12/2019 02:00</td>\n",
       "      <td>2</td>\n",
       "      <td>0</td>\n",
       "      <td>0.1</td>\n",
       "      <td>0</td>\n",
       "      <td>8.3</td>\n",
       "      <td>0</td>\n",
       "      <td>8.1</td>\n",
       "      <td>7.9</td>\n",
       "      <td>10.6</td>\n",
       "      <td>...</td>\n",
       "      <td>52</td>\n",
       "      <td>0.0</td>\n",
       "      <td>20000</td>\n",
       "      <td>20</td>\n",
       "      <td>7</td>\n",
       "      <td>58.47</td>\n",
       "      <td>1.9</td>\n",
       "      <td>13.6</td>\n",
       "      <td>0.3</td>\n",
       "      <td>9.0</td>\n",
       "    </tr>\n",
       "    <tr>\n",
       "      <th>18575</th>\n",
       "      <td>31/12/2019 03:00</td>\n",
       "      <td>3</td>\n",
       "      <td>0</td>\n",
       "      <td>0.0</td>\n",
       "      <td>0</td>\n",
       "      <td>8.2</td>\n",
       "      <td>0</td>\n",
       "      <td>8.0</td>\n",
       "      <td>7.7</td>\n",
       "      <td>10.6</td>\n",
       "      <td>...</td>\n",
       "      <td>52</td>\n",
       "      <td>0.0</td>\n",
       "      <td>20000</td>\n",
       "      <td>12</td>\n",
       "      <td>7</td>\n",
       "      <td>60.27</td>\n",
       "      <td>2.1</td>\n",
       "      <td>6.9</td>\n",
       "      <td>0.3</td>\n",
       "      <td>11.0</td>\n",
       "    </tr>\n",
       "    <tr>\n",
       "      <th>18576</th>\n",
       "      <td>31/12/2019 04:00</td>\n",
       "      <td>4</td>\n",
       "      <td>0</td>\n",
       "      <td>0.2</td>\n",
       "      <td>0</td>\n",
       "      <td>7.9</td>\n",
       "      <td>0</td>\n",
       "      <td>7.7</td>\n",
       "      <td>7.4</td>\n",
       "      <td>10.3</td>\n",
       "      <td>...</td>\n",
       "      <td>52</td>\n",
       "      <td>0.0</td>\n",
       "      <td>7000</td>\n",
       "      <td>4</td>\n",
       "      <td>7</td>\n",
       "      <td>61.87</td>\n",
       "      <td>2.1</td>\n",
       "      <td>6.5</td>\n",
       "      <td>0.3</td>\n",
       "      <td>9.0</td>\n",
       "    </tr>\n",
       "    <tr>\n",
       "      <th>18577</th>\n",
       "      <td>31/12/2019 06:00</td>\n",
       "      <td>6</td>\n",
       "      <td>0</td>\n",
       "      <td>0.0</td>\n",
       "      <td>0</td>\n",
       "      <td>8.1</td>\n",
       "      <td>0</td>\n",
       "      <td>7.8</td>\n",
       "      <td>7.4</td>\n",
       "      <td>10.3</td>\n",
       "      <td>...</td>\n",
       "      <td>52</td>\n",
       "      <td>0.0</td>\n",
       "      <td>20000</td>\n",
       "      <td>5</td>\n",
       "      <td>7</td>\n",
       "      <td>57.28</td>\n",
       "      <td>2.1</td>\n",
       "      <td>7.8</td>\n",
       "      <td>0.3</td>\n",
       "      <td>16.0</td>\n",
       "    </tr>\n",
       "    <tr>\n",
       "      <th>18578</th>\n",
       "      <td>31/12/2019 07:00</td>\n",
       "      <td>7</td>\n",
       "      <td>0</td>\n",
       "      <td>0.0</td>\n",
       "      <td>0</td>\n",
       "      <td>8.1</td>\n",
       "      <td>0</td>\n",
       "      <td>7.8</td>\n",
       "      <td>7.5</td>\n",
       "      <td>10.3</td>\n",
       "      <td>...</td>\n",
       "      <td>11</td>\n",
       "      <td>0.0</td>\n",
       "      <td>18000</td>\n",
       "      <td>4</td>\n",
       "      <td>7</td>\n",
       "      <td>51.49</td>\n",
       "      <td>2.1</td>\n",
       "      <td>5.2</td>\n",
       "      <td>0.3</td>\n",
       "      <td>16.0</td>\n",
       "    </tr>\n",
       "  </tbody>\n",
       "</table>\n",
       "<p>5 rows × 27 columns</p>\n",
       "</div>"
      ],
      "text/plain": [
       "                   Date  Hour  indrain  rain  indtemp  temp  indwetb  wetb  \\\n",
       "18574  31/12/2019 02:00     2        0   0.1        0   8.3        0   8.1   \n",
       "18575  31/12/2019 03:00     3        0   0.0        0   8.2        0   8.0   \n",
       "18576  31/12/2019 04:00     4        0   0.2        0   7.9        0   7.7   \n",
       "18577  31/12/2019 06:00     6        0   0.0        0   8.1        0   7.8   \n",
       "18578  31/12/2019 07:00     7        0   0.0        0   8.1        0   7.8   \n",
       "\n",
       "       dewpt  vappr  ...   w  sun    vis  clht  clamt  Ozone  SO2   NO2   CO  \\\n",
       "18574    7.9   10.6  ...  52  0.0  20000    20      7  58.47  1.9  13.6  0.3   \n",
       "18575    7.7   10.6  ...  52  0.0  20000    12      7  60.27  2.1   6.9  0.3   \n",
       "18576    7.4   10.3  ...  52  0.0   7000     4      7  61.87  2.1   6.5  0.3   \n",
       "18577    7.4   10.3  ...  52  0.0  20000     5      7  57.28  2.1   7.8  0.3   \n",
       "18578    7.5   10.3  ...  11  0.0  18000     4      7  51.49  2.1   5.2  0.3   \n",
       "\n",
       "       PM10  \n",
       "18574   9.0  \n",
       "18575  11.0  \n",
       "18576   9.0  \n",
       "18577  16.0  \n",
       "18578  16.0  \n",
       "\n",
       "[5 rows x 27 columns]"
      ]
     },
     "execution_count": 5,
     "metadata": {},
     "output_type": "execute_result"
    }
   ],
   "source": [
    "df.tail(5)"
   ]
  },
  {
   "cell_type": "code",
   "execution_count": 6,
   "metadata": {},
   "outputs": [
    {
     "name": "stdout",
     "output_type": "stream",
     "text": [
      "Length of Data is: 5520\n"
     ]
    }
   ],
   "source": [
    "df = df.dropna(axis=0)\n",
    "print(\"Length of Data is: {}\".format(len(df)))"
   ]
  },
  {
   "cell_type": "code",
   "execution_count": 7,
   "metadata": {},
   "outputs": [
    {
     "data": {
      "text/html": [
       "<div>\n",
       "<style scoped>\n",
       "    .dataframe tbody tr th:only-of-type {\n",
       "        vertical-align: middle;\n",
       "    }\n",
       "\n",
       "    .dataframe tbody tr th {\n",
       "        vertical-align: top;\n",
       "    }\n",
       "\n",
       "    .dataframe thead th {\n",
       "        text-align: right;\n",
       "    }\n",
       "</style>\n",
       "<table border=\"1\" class=\"dataframe\">\n",
       "  <thead>\n",
       "    <tr style=\"text-align: right;\">\n",
       "      <th></th>\n",
       "      <th>Date</th>\n",
       "      <th>Hour</th>\n",
       "      <th>indrain</th>\n",
       "      <th>rain</th>\n",
       "      <th>indtemp</th>\n",
       "      <th>temp</th>\n",
       "      <th>indwetb</th>\n",
       "      <th>wetb</th>\n",
       "      <th>dewpt</th>\n",
       "      <th>vappr</th>\n",
       "      <th>...</th>\n",
       "      <th>w</th>\n",
       "      <th>sun</th>\n",
       "      <th>vis</th>\n",
       "      <th>clht</th>\n",
       "      <th>clamt</th>\n",
       "      <th>Ozone</th>\n",
       "      <th>SO2</th>\n",
       "      <th>NO2</th>\n",
       "      <th>CO</th>\n",
       "      <th>PM10</th>\n",
       "    </tr>\n",
       "  </thead>\n",
       "  <tbody>\n",
       "    <tr>\n",
       "      <th>11427</th>\n",
       "      <td>10/11/2018 16:00</td>\n",
       "      <td>16</td>\n",
       "      <td>0</td>\n",
       "      <td>0.0</td>\n",
       "      <td>0</td>\n",
       "      <td>12.5</td>\n",
       "      <td>0</td>\n",
       "      <td>10.1</td>\n",
       "      <td>7.5</td>\n",
       "      <td>10.4</td>\n",
       "      <td>...</td>\n",
       "      <td>11</td>\n",
       "      <td>0.9</td>\n",
       "      <td>60000</td>\n",
       "      <td>999</td>\n",
       "      <td>2</td>\n",
       "      <td>42.6</td>\n",
       "      <td>3.0</td>\n",
       "      <td>35.1</td>\n",
       "      <td>0.3</td>\n",
       "      <td>33.4</td>\n",
       "    </tr>\n",
       "    <tr>\n",
       "      <th>11428</th>\n",
       "      <td>10/11/2018 17:00</td>\n",
       "      <td>17</td>\n",
       "      <td>0</td>\n",
       "      <td>0.0</td>\n",
       "      <td>0</td>\n",
       "      <td>11.9</td>\n",
       "      <td>0</td>\n",
       "      <td>10.0</td>\n",
       "      <td>8.1</td>\n",
       "      <td>10.8</td>\n",
       "      <td>...</td>\n",
       "      <td>11</td>\n",
       "      <td>0.5</td>\n",
       "      <td>50000</td>\n",
       "      <td>999</td>\n",
       "      <td>1</td>\n",
       "      <td>49.2</td>\n",
       "      <td>2.2</td>\n",
       "      <td>20.1</td>\n",
       "      <td>0.2</td>\n",
       "      <td>26.0</td>\n",
       "    </tr>\n",
       "    <tr>\n",
       "      <th>11429</th>\n",
       "      <td>10/11/2018 18:00</td>\n",
       "      <td>18</td>\n",
       "      <td>0</td>\n",
       "      <td>0.0</td>\n",
       "      <td>0</td>\n",
       "      <td>11.1</td>\n",
       "      <td>0</td>\n",
       "      <td>9.7</td>\n",
       "      <td>8.2</td>\n",
       "      <td>10.9</td>\n",
       "      <td>...</td>\n",
       "      <td>81</td>\n",
       "      <td>0.0</td>\n",
       "      <td>40000</td>\n",
       "      <td>999</td>\n",
       "      <td>4</td>\n",
       "      <td>57.0</td>\n",
       "      <td>2.2</td>\n",
       "      <td>9.2</td>\n",
       "      <td>0.2</td>\n",
       "      <td>17.0</td>\n",
       "    </tr>\n",
       "    <tr>\n",
       "      <th>11430</th>\n",
       "      <td>10/11/2018 19:00</td>\n",
       "      <td>19</td>\n",
       "      <td>0</td>\n",
       "      <td>0.0</td>\n",
       "      <td>0</td>\n",
       "      <td>11.3</td>\n",
       "      <td>0</td>\n",
       "      <td>9.9</td>\n",
       "      <td>8.4</td>\n",
       "      <td>11.1</td>\n",
       "      <td>...</td>\n",
       "      <td>11</td>\n",
       "      <td>0.0</td>\n",
       "      <td>30000</td>\n",
       "      <td>999</td>\n",
       "      <td>4</td>\n",
       "      <td>64.4</td>\n",
       "      <td>2.2</td>\n",
       "      <td>6.5</td>\n",
       "      <td>0.2</td>\n",
       "      <td>18.0</td>\n",
       "    </tr>\n",
       "    <tr>\n",
       "      <th>11431</th>\n",
       "      <td>10/11/2018 20:00</td>\n",
       "      <td>20</td>\n",
       "      <td>0</td>\n",
       "      <td>0.0</td>\n",
       "      <td>0</td>\n",
       "      <td>12.0</td>\n",
       "      <td>0</td>\n",
       "      <td>10.7</td>\n",
       "      <td>9.4</td>\n",
       "      <td>11.8</td>\n",
       "      <td>...</td>\n",
       "      <td>11</td>\n",
       "      <td>0.0</td>\n",
       "      <td>25000</td>\n",
       "      <td>18</td>\n",
       "      <td>7</td>\n",
       "      <td>66.6</td>\n",
       "      <td>2.2</td>\n",
       "      <td>5.3</td>\n",
       "      <td>0.2</td>\n",
       "      <td>14.0</td>\n",
       "    </tr>\n",
       "  </tbody>\n",
       "</table>\n",
       "<p>5 rows × 27 columns</p>\n",
       "</div>"
      ],
      "text/plain": [
       "                   Date  Hour  indrain  rain  indtemp  temp  indwetb  wetb  \\\n",
       "11427  10/11/2018 16:00    16        0   0.0        0  12.5        0  10.1   \n",
       "11428  10/11/2018 17:00    17        0   0.0        0  11.9        0  10.0   \n",
       "11429  10/11/2018 18:00    18        0   0.0        0  11.1        0   9.7   \n",
       "11430  10/11/2018 19:00    19        0   0.0        0  11.3        0   9.9   \n",
       "11431  10/11/2018 20:00    20        0   0.0        0  12.0        0  10.7   \n",
       "\n",
       "       dewpt  vappr  ...   w  sun    vis  clht  clamt  Ozone  SO2   NO2   CO  \\\n",
       "11427    7.5   10.4  ...  11  0.9  60000   999      2   42.6  3.0  35.1  0.3   \n",
       "11428    8.1   10.8  ...  11  0.5  50000   999      1   49.2  2.2  20.1  0.2   \n",
       "11429    8.2   10.9  ...  81  0.0  40000   999      4   57.0  2.2   9.2  0.2   \n",
       "11430    8.4   11.1  ...  11  0.0  30000   999      4   64.4  2.2   6.5  0.2   \n",
       "11431    9.4   11.8  ...  11  0.0  25000    18      7   66.6  2.2   5.3  0.2   \n",
       "\n",
       "       PM10  \n",
       "11427  33.4  \n",
       "11428  26.0  \n",
       "11429  17.0  \n",
       "11430  18.0  \n",
       "11431  14.0  \n",
       "\n",
       "[5 rows x 27 columns]"
      ]
     },
     "execution_count": 7,
     "metadata": {},
     "output_type": "execute_result"
    }
   ],
   "source": [
    "df.head(5)"
   ]
  },
  {
   "cell_type": "markdown",
   "metadata": {},
   "source": [
    "# Check Datatypes"
   ]
  },
  {
   "cell_type": "code",
   "execution_count": 8,
   "metadata": {},
   "outputs": [
    {
     "data": {
      "text/plain": [
       "Date         object\n",
       "Hour          int64\n",
       "indrain       int64\n",
       "rain        float64\n",
       "indtemp       int64\n",
       "temp        float64\n",
       "indwetb       int64\n",
       "wetb        float64\n",
       "dewpt       float64\n",
       "vappr       float64\n",
       "rhum          int64\n",
       "msl         float64\n",
       "indwdsp       int64\n",
       "wdsp          int64\n",
       "indwddir      int64\n",
       "wddir         int64\n",
       "ww            int64\n",
       "w             int64\n",
       "sun         float64\n",
       "vis           int64\n",
       "clht          int64\n",
       "clamt         int64\n",
       "Ozone       float64\n",
       "SO2         float64\n",
       "NO2         float64\n",
       "CO          float64\n",
       "PM10        float64\n",
       "dtype: object"
      ]
     },
     "execution_count": 8,
     "metadata": {},
     "output_type": "execute_result"
    }
   ],
   "source": [
    "df.dtypes #Look at the datatypes"
   ]
  },
  {
   "cell_type": "code",
   "execution_count": 9,
   "metadata": {},
   "outputs": [],
   "source": [
    "df['Date'] = df['Date'].astype('datetime64') #Change the datatype of the date column (used for selecting timeframes later)\n",
    "#df['Ozone'] = df['Ozone'].astype('float')"
   ]
  },
  {
   "cell_type": "code",
   "execution_count": 10,
   "metadata": {
    "scrolled": true
   },
   "outputs": [
    {
     "data": {
      "text/plain": [
       "Date        datetime64[ns]\n",
       "Hour                 int64\n",
       "indrain              int64\n",
       "rain               float64\n",
       "indtemp              int64\n",
       "temp               float64\n",
       "indwetb              int64\n",
       "wetb               float64\n",
       "dewpt              float64\n",
       "vappr              float64\n",
       "rhum                 int64\n",
       "msl                float64\n",
       "indwdsp              int64\n",
       "wdsp                 int64\n",
       "indwddir             int64\n",
       "wddir                int64\n",
       "ww                   int64\n",
       "w                    int64\n",
       "sun                float64\n",
       "vis                  int64\n",
       "clht                 int64\n",
       "clamt                int64\n",
       "Ozone              float64\n",
       "SO2                float64\n",
       "NO2                float64\n",
       "CO                 float64\n",
       "PM10               float64\n",
       "dtype: object"
      ]
     },
     "execution_count": 10,
     "metadata": {},
     "output_type": "execute_result"
    }
   ],
   "source": [
    "df.dtypes"
   ]
  },
  {
   "cell_type": "code",
   "execution_count": 11,
   "metadata": {},
   "outputs": [],
   "source": [
    "#Only take positive values and values of PM10 less than 100 (units in markdown)\n",
    "Posdf = df[(df['SO2'] >= 0) & (df['Ozone'] >= 0) & (df['NO2'] >= 0) & (df['CO'] >= 0)  & (df['PM10'] >= 10)]"
   ]
  },
  {
   "cell_type": "code",
   "execution_count": 12,
   "metadata": {},
   "outputs": [
    {
     "data": {
      "text/html": [
       "<div>\n",
       "<style scoped>\n",
       "    .dataframe tbody tr th:only-of-type {\n",
       "        vertical-align: middle;\n",
       "    }\n",
       "\n",
       "    .dataframe tbody tr th {\n",
       "        vertical-align: top;\n",
       "    }\n",
       "\n",
       "    .dataframe thead th {\n",
       "        text-align: right;\n",
       "    }\n",
       "</style>\n",
       "<table border=\"1\" class=\"dataframe\">\n",
       "  <thead>\n",
       "    <tr style=\"text-align: right;\">\n",
       "      <th></th>\n",
       "      <th>Date</th>\n",
       "      <th>Hour</th>\n",
       "      <th>indrain</th>\n",
       "      <th>rain</th>\n",
       "      <th>indtemp</th>\n",
       "      <th>temp</th>\n",
       "      <th>indwetb</th>\n",
       "      <th>wetb</th>\n",
       "      <th>dewpt</th>\n",
       "      <th>vappr</th>\n",
       "      <th>...</th>\n",
       "      <th>w</th>\n",
       "      <th>sun</th>\n",
       "      <th>vis</th>\n",
       "      <th>clht</th>\n",
       "      <th>clamt</th>\n",
       "      <th>Ozone</th>\n",
       "      <th>SO2</th>\n",
       "      <th>NO2</th>\n",
       "      <th>CO</th>\n",
       "      <th>PM10</th>\n",
       "    </tr>\n",
       "  </thead>\n",
       "  <tbody>\n",
       "    <tr>\n",
       "      <th>11427</th>\n",
       "      <td>2018-10-11 16:00:00</td>\n",
       "      <td>16</td>\n",
       "      <td>0</td>\n",
       "      <td>0.0</td>\n",
       "      <td>0</td>\n",
       "      <td>12.5</td>\n",
       "      <td>0</td>\n",
       "      <td>10.1</td>\n",
       "      <td>7.5</td>\n",
       "      <td>10.4</td>\n",
       "      <td>...</td>\n",
       "      <td>11</td>\n",
       "      <td>0.9</td>\n",
       "      <td>60000</td>\n",
       "      <td>999</td>\n",
       "      <td>2</td>\n",
       "      <td>42.6</td>\n",
       "      <td>3.0</td>\n",
       "      <td>35.1</td>\n",
       "      <td>0.3</td>\n",
       "      <td>33.4</td>\n",
       "    </tr>\n",
       "    <tr>\n",
       "      <th>11428</th>\n",
       "      <td>2018-10-11 17:00:00</td>\n",
       "      <td>17</td>\n",
       "      <td>0</td>\n",
       "      <td>0.0</td>\n",
       "      <td>0</td>\n",
       "      <td>11.9</td>\n",
       "      <td>0</td>\n",
       "      <td>10.0</td>\n",
       "      <td>8.1</td>\n",
       "      <td>10.8</td>\n",
       "      <td>...</td>\n",
       "      <td>11</td>\n",
       "      <td>0.5</td>\n",
       "      <td>50000</td>\n",
       "      <td>999</td>\n",
       "      <td>1</td>\n",
       "      <td>49.2</td>\n",
       "      <td>2.2</td>\n",
       "      <td>20.1</td>\n",
       "      <td>0.2</td>\n",
       "      <td>26.0</td>\n",
       "    </tr>\n",
       "    <tr>\n",
       "      <th>11429</th>\n",
       "      <td>2018-10-11 18:00:00</td>\n",
       "      <td>18</td>\n",
       "      <td>0</td>\n",
       "      <td>0.0</td>\n",
       "      <td>0</td>\n",
       "      <td>11.1</td>\n",
       "      <td>0</td>\n",
       "      <td>9.7</td>\n",
       "      <td>8.2</td>\n",
       "      <td>10.9</td>\n",
       "      <td>...</td>\n",
       "      <td>81</td>\n",
       "      <td>0.0</td>\n",
       "      <td>40000</td>\n",
       "      <td>999</td>\n",
       "      <td>4</td>\n",
       "      <td>57.0</td>\n",
       "      <td>2.2</td>\n",
       "      <td>9.2</td>\n",
       "      <td>0.2</td>\n",
       "      <td>17.0</td>\n",
       "    </tr>\n",
       "    <tr>\n",
       "      <th>11430</th>\n",
       "      <td>2018-10-11 19:00:00</td>\n",
       "      <td>19</td>\n",
       "      <td>0</td>\n",
       "      <td>0.0</td>\n",
       "      <td>0</td>\n",
       "      <td>11.3</td>\n",
       "      <td>0</td>\n",
       "      <td>9.9</td>\n",
       "      <td>8.4</td>\n",
       "      <td>11.1</td>\n",
       "      <td>...</td>\n",
       "      <td>11</td>\n",
       "      <td>0.0</td>\n",
       "      <td>30000</td>\n",
       "      <td>999</td>\n",
       "      <td>4</td>\n",
       "      <td>64.4</td>\n",
       "      <td>2.2</td>\n",
       "      <td>6.5</td>\n",
       "      <td>0.2</td>\n",
       "      <td>18.0</td>\n",
       "    </tr>\n",
       "    <tr>\n",
       "      <th>11431</th>\n",
       "      <td>2018-10-11 20:00:00</td>\n",
       "      <td>20</td>\n",
       "      <td>0</td>\n",
       "      <td>0.0</td>\n",
       "      <td>0</td>\n",
       "      <td>12.0</td>\n",
       "      <td>0</td>\n",
       "      <td>10.7</td>\n",
       "      <td>9.4</td>\n",
       "      <td>11.8</td>\n",
       "      <td>...</td>\n",
       "      <td>11</td>\n",
       "      <td>0.0</td>\n",
       "      <td>25000</td>\n",
       "      <td>18</td>\n",
       "      <td>7</td>\n",
       "      <td>66.6</td>\n",
       "      <td>2.2</td>\n",
       "      <td>5.3</td>\n",
       "      <td>0.2</td>\n",
       "      <td>14.0</td>\n",
       "    </tr>\n",
       "  </tbody>\n",
       "</table>\n",
       "<p>5 rows × 27 columns</p>\n",
       "</div>"
      ],
      "text/plain": [
       "                     Date  Hour  indrain  rain  indtemp  temp  indwetb  wetb  \\\n",
       "11427 2018-10-11 16:00:00    16        0   0.0        0  12.5        0  10.1   \n",
       "11428 2018-10-11 17:00:00    17        0   0.0        0  11.9        0  10.0   \n",
       "11429 2018-10-11 18:00:00    18        0   0.0        0  11.1        0   9.7   \n",
       "11430 2018-10-11 19:00:00    19        0   0.0        0  11.3        0   9.9   \n",
       "11431 2018-10-11 20:00:00    20        0   0.0        0  12.0        0  10.7   \n",
       "\n",
       "       dewpt  vappr  ...   w  sun    vis  clht  clamt  Ozone  SO2   NO2   CO  \\\n",
       "11427    7.5   10.4  ...  11  0.9  60000   999      2   42.6  3.0  35.1  0.3   \n",
       "11428    8.1   10.8  ...  11  0.5  50000   999      1   49.2  2.2  20.1  0.2   \n",
       "11429    8.2   10.9  ...  81  0.0  40000   999      4   57.0  2.2   9.2  0.2   \n",
       "11430    8.4   11.1  ...  11  0.0  30000   999      4   64.4  2.2   6.5  0.2   \n",
       "11431    9.4   11.8  ...  11  0.0  25000    18      7   66.6  2.2   5.3  0.2   \n",
       "\n",
       "       PM10  \n",
       "11427  33.4  \n",
       "11428  26.0  \n",
       "11429  17.0  \n",
       "11430  18.0  \n",
       "11431  14.0  \n",
       "\n",
       "[5 rows x 27 columns]"
      ]
     },
     "execution_count": 12,
     "metadata": {},
     "output_type": "execute_result"
    }
   ],
   "source": [
    "Posdf.head()"
   ]
  },
  {
   "cell_type": "code",
   "execution_count": 13,
   "metadata": {},
   "outputs": [
    {
     "name": "stderr",
     "output_type": "stream",
     "text": [
      "C:\\Users\\User\\Anaconda3\\lib\\site-packages\\pandas\\core\\frame.py:3940: SettingWithCopyWarning: \n",
      "A value is trying to be set on a copy of a slice from a DataFrame\n",
      "\n",
      "See the caveats in the documentation: http://pandas.pydata.org/pandas-docs/stable/indexing.html#indexing-view-versus-copy\n",
      "  errors=errors)\n"
     ]
    }
   ],
   "source": [
    "Posdf.drop('Date', axis=1, inplace=True)"
   ]
  },
  {
   "cell_type": "code",
   "execution_count": 14,
   "metadata": {},
   "outputs": [],
   "source": [
    "Posdf.drop('indrain', axis=1, inplace=True)"
   ]
  },
  {
   "cell_type": "code",
   "execution_count": 15,
   "metadata": {},
   "outputs": [],
   "source": [
    "Posdf.drop('indtemp', axis=1, inplace=True)"
   ]
  },
  {
   "cell_type": "code",
   "execution_count": 16,
   "metadata": {},
   "outputs": [],
   "source": [
    "Posdf.drop('indwetb', axis=1, inplace=True)"
   ]
  },
  {
   "cell_type": "code",
   "execution_count": 17,
   "metadata": {},
   "outputs": [],
   "source": [
    "Posdf.drop('indwdsp', axis=1, inplace=True)"
   ]
  },
  {
   "cell_type": "code",
   "execution_count": 18,
   "metadata": {},
   "outputs": [],
   "source": [
    "Posdf.drop('indwddir', axis=1, inplace=True)"
   ]
  },
  {
   "cell_type": "code",
   "execution_count": 19,
   "metadata": {},
   "outputs": [],
   "source": [
    "Posdf.drop('dewpt', axis=1, inplace=True)"
   ]
  },
  {
   "cell_type": "code",
   "execution_count": 20,
   "metadata": {},
   "outputs": [],
   "source": [
    "Posdf.drop('vappr', axis=1, inplace=True)"
   ]
  },
  {
   "cell_type": "code",
   "execution_count": 21,
   "metadata": {},
   "outputs": [],
   "source": [
    "Posdf.drop('rhum', axis=1, inplace=True)"
   ]
  },
  {
   "cell_type": "code",
   "execution_count": 22,
   "metadata": {},
   "outputs": [],
   "source": [
    "Posdf.drop('ww', axis=1, inplace=True)"
   ]
  },
  {
   "cell_type": "code",
   "execution_count": 23,
   "metadata": {},
   "outputs": [],
   "source": [
    "Posdf.drop('w', axis=1, inplace=True)"
   ]
  },
  {
   "cell_type": "code",
   "execution_count": 24,
   "metadata": {},
   "outputs": [],
   "source": [
    "Posdf.drop('clamt', axis=1, inplace=True)"
   ]
  },
  {
   "cell_type": "code",
   "execution_count": 25,
   "metadata": {
    "scrolled": true
   },
   "outputs": [
    {
     "data": {
      "text/html": [
       "<div>\n",
       "<style scoped>\n",
       "    .dataframe tbody tr th:only-of-type {\n",
       "        vertical-align: middle;\n",
       "    }\n",
       "\n",
       "    .dataframe tbody tr th {\n",
       "        vertical-align: top;\n",
       "    }\n",
       "\n",
       "    .dataframe thead th {\n",
       "        text-align: right;\n",
       "    }\n",
       "</style>\n",
       "<table border=\"1\" class=\"dataframe\">\n",
       "  <thead>\n",
       "    <tr style=\"text-align: right;\">\n",
       "      <th></th>\n",
       "      <th>Hour</th>\n",
       "      <th>rain</th>\n",
       "      <th>temp</th>\n",
       "      <th>wetb</th>\n",
       "      <th>msl</th>\n",
       "      <th>wdsp</th>\n",
       "      <th>wddir</th>\n",
       "      <th>sun</th>\n",
       "      <th>vis</th>\n",
       "      <th>clht</th>\n",
       "      <th>Ozone</th>\n",
       "      <th>SO2</th>\n",
       "      <th>NO2</th>\n",
       "      <th>CO</th>\n",
       "      <th>PM10</th>\n",
       "    </tr>\n",
       "  </thead>\n",
       "  <tbody>\n",
       "    <tr>\n",
       "      <th>count</th>\n",
       "      <td>3873.000000</td>\n",
       "      <td>3873.000000</td>\n",
       "      <td>3873.000000</td>\n",
       "      <td>3873.000000</td>\n",
       "      <td>3873.000000</td>\n",
       "      <td>3873.000000</td>\n",
       "      <td>3873.000000</td>\n",
       "      <td>3873.000000</td>\n",
       "      <td>3873.000000</td>\n",
       "      <td>3873.000000</td>\n",
       "      <td>3873.000000</td>\n",
       "      <td>3873.000000</td>\n",
       "      <td>3873.000000</td>\n",
       "      <td>3873.000000</td>\n",
       "      <td>3873.000000</td>\n",
       "    </tr>\n",
       "    <tr>\n",
       "      <th>mean</th>\n",
       "      <td>12.881487</td>\n",
       "      <td>0.149393</td>\n",
       "      <td>9.033901</td>\n",
       "      <td>7.787142</td>\n",
       "      <td>1013.418384</td>\n",
       "      <td>10.182288</td>\n",
       "      <td>213.986574</td>\n",
       "      <td>0.203253</td>\n",
       "      <td>29631.396850</td>\n",
       "      <td>286.974438</td>\n",
       "      <td>45.048730</td>\n",
       "      <td>2.872205</td>\n",
       "      <td>16.933653</td>\n",
       "      <td>0.330003</td>\n",
       "      <td>39.289027</td>\n",
       "    </tr>\n",
       "    <tr>\n",
       "      <th>std</th>\n",
       "      <td>6.278378</td>\n",
       "      <td>0.528945</td>\n",
       "      <td>3.125001</td>\n",
       "      <td>2.844888</td>\n",
       "      <td>14.360063</td>\n",
       "      <td>5.192605</td>\n",
       "      <td>81.618201</td>\n",
       "      <td>0.360218</td>\n",
       "      <td>17240.071419</td>\n",
       "      <td>408.021365</td>\n",
       "      <td>26.897474</td>\n",
       "      <td>2.301278</td>\n",
       "      <td>17.504637</td>\n",
       "      <td>0.259068</td>\n",
       "      <td>123.557722</td>\n",
       "    </tr>\n",
       "    <tr>\n",
       "      <th>min</th>\n",
       "      <td>0.000000</td>\n",
       "      <td>0.000000</td>\n",
       "      <td>0.100000</td>\n",
       "      <td>0.000000</td>\n",
       "      <td>970.100000</td>\n",
       "      <td>1.000000</td>\n",
       "      <td>10.000000</td>\n",
       "      <td>0.000000</td>\n",
       "      <td>300.000000</td>\n",
       "      <td>1.000000</td>\n",
       "      <td>0.000000</td>\n",
       "      <td>0.000000</td>\n",
       "      <td>0.000000</td>\n",
       "      <td>0.000000</td>\n",
       "      <td>10.000000</td>\n",
       "    </tr>\n",
       "    <tr>\n",
       "      <th>25%</th>\n",
       "      <td>8.000000</td>\n",
       "      <td>0.000000</td>\n",
       "      <td>7.000000</td>\n",
       "      <td>5.900000</td>\n",
       "      <td>1003.300000</td>\n",
       "      <td>6.000000</td>\n",
       "      <td>160.000000</td>\n",
       "      <td>0.000000</td>\n",
       "      <td>20000.000000</td>\n",
       "      <td>17.000000</td>\n",
       "      <td>25.200000</td>\n",
       "      <td>1.600000</td>\n",
       "      <td>5.000000</td>\n",
       "      <td>0.200000</td>\n",
       "      <td>14.000000</td>\n",
       "    </tr>\n",
       "    <tr>\n",
       "      <th>50%</th>\n",
       "      <td>13.000000</td>\n",
       "      <td>0.000000</td>\n",
       "      <td>8.800000</td>\n",
       "      <td>7.800000</td>\n",
       "      <td>1013.300000</td>\n",
       "      <td>9.000000</td>\n",
       "      <td>220.000000</td>\n",
       "      <td>0.000000</td>\n",
       "      <td>30000.000000</td>\n",
       "      <td>40.000000</td>\n",
       "      <td>41.600000</td>\n",
       "      <td>2.400000</td>\n",
       "      <td>10.500000</td>\n",
       "      <td>0.300000</td>\n",
       "      <td>19.000000</td>\n",
       "    </tr>\n",
       "    <tr>\n",
       "      <th>75%</th>\n",
       "      <td>18.000000</td>\n",
       "      <td>0.000000</td>\n",
       "      <td>10.800000</td>\n",
       "      <td>9.600000</td>\n",
       "      <td>1024.300000</td>\n",
       "      <td>13.000000</td>\n",
       "      <td>280.000000</td>\n",
       "      <td>0.200000</td>\n",
       "      <td>40000.000000</td>\n",
       "      <td>280.000000</td>\n",
       "      <td>61.870000</td>\n",
       "      <td>3.500000</td>\n",
       "      <td>22.700000</td>\n",
       "      <td>0.500000</td>\n",
       "      <td>29.000000</td>\n",
       "    </tr>\n",
       "    <tr>\n",
       "      <th>max</th>\n",
       "      <td>23.000000</td>\n",
       "      <td>8.400000</td>\n",
       "      <td>19.500000</td>\n",
       "      <td>17.500000</td>\n",
       "      <td>1043.500000</td>\n",
       "      <td>33.000000</td>\n",
       "      <td>360.000000</td>\n",
       "      <td>1.000000</td>\n",
       "      <td>75000.000000</td>\n",
       "      <td>999.000000</td>\n",
       "      <td>168.440000</td>\n",
       "      <td>17.000000</td>\n",
       "      <td>112.900000</td>\n",
       "      <td>2.000000</td>\n",
       "      <td>985.000000</td>\n",
       "    </tr>\n",
       "  </tbody>\n",
       "</table>\n",
       "</div>"
      ],
      "text/plain": [
       "              Hour         rain         temp         wetb          msl  \\\n",
       "count  3873.000000  3873.000000  3873.000000  3873.000000  3873.000000   \n",
       "mean     12.881487     0.149393     9.033901     7.787142  1013.418384   \n",
       "std       6.278378     0.528945     3.125001     2.844888    14.360063   \n",
       "min       0.000000     0.000000     0.100000     0.000000   970.100000   \n",
       "25%       8.000000     0.000000     7.000000     5.900000  1003.300000   \n",
       "50%      13.000000     0.000000     8.800000     7.800000  1013.300000   \n",
       "75%      18.000000     0.000000    10.800000     9.600000  1024.300000   \n",
       "max      23.000000     8.400000    19.500000    17.500000  1043.500000   \n",
       "\n",
       "              wdsp        wddir          sun           vis         clht  \\\n",
       "count  3873.000000  3873.000000  3873.000000   3873.000000  3873.000000   \n",
       "mean     10.182288   213.986574     0.203253  29631.396850   286.974438   \n",
       "std       5.192605    81.618201     0.360218  17240.071419   408.021365   \n",
       "min       1.000000    10.000000     0.000000    300.000000     1.000000   \n",
       "25%       6.000000   160.000000     0.000000  20000.000000    17.000000   \n",
       "50%       9.000000   220.000000     0.000000  30000.000000    40.000000   \n",
       "75%      13.000000   280.000000     0.200000  40000.000000   280.000000   \n",
       "max      33.000000   360.000000     1.000000  75000.000000   999.000000   \n",
       "\n",
       "             Ozone          SO2          NO2           CO         PM10  \n",
       "count  3873.000000  3873.000000  3873.000000  3873.000000  3873.000000  \n",
       "mean     45.048730     2.872205    16.933653     0.330003    39.289027  \n",
       "std      26.897474     2.301278    17.504637     0.259068   123.557722  \n",
       "min       0.000000     0.000000     0.000000     0.000000    10.000000  \n",
       "25%      25.200000     1.600000     5.000000     0.200000    14.000000  \n",
       "50%      41.600000     2.400000    10.500000     0.300000    19.000000  \n",
       "75%      61.870000     3.500000    22.700000     0.500000    29.000000  \n",
       "max     168.440000    17.000000   112.900000     2.000000   985.000000  "
      ]
     },
     "execution_count": 25,
     "metadata": {},
     "output_type": "execute_result"
    }
   ],
   "source": [
    "Posdf.describe()"
   ]
  },
  {
   "cell_type": "markdown",
   "metadata": {},
   "source": [
    "# Adjust Data to avoid zeros"
   ]
  },
  {
   "cell_type": "code",
   "execution_count": 26,
   "metadata": {},
   "outputs": [
    {
     "name": "stderr",
     "output_type": "stream",
     "text": [
      "C:\\Users\\User\\Anaconda3\\lib\\site-packages\\ipykernel_launcher.py:1: SettingWithCopyWarning: \n",
      "A value is trying to be set on a copy of a slice from a DataFrame.\n",
      "Try using .loc[row_indexer,col_indexer] = value instead\n",
      "\n",
      "See the caveats in the documentation: http://pandas.pydata.org/pandas-docs/stable/indexing.html#indexing-view-versus-copy\n",
      "  \"\"\"Entry point for launching an IPython kernel.\n",
      "C:\\Users\\User\\Anaconda3\\lib\\site-packages\\ipykernel_launcher.py:2: SettingWithCopyWarning: \n",
      "A value is trying to be set on a copy of a slice from a DataFrame.\n",
      "Try using .loc[row_indexer,col_indexer] = value instead\n",
      "\n",
      "See the caveats in the documentation: http://pandas.pydata.org/pandas-docs/stable/indexing.html#indexing-view-versus-copy\n",
      "  \n",
      "C:\\Users\\User\\Anaconda3\\lib\\site-packages\\ipykernel_launcher.py:3: SettingWithCopyWarning: \n",
      "A value is trying to be set on a copy of a slice from a DataFrame.\n",
      "Try using .loc[row_indexer,col_indexer] = value instead\n",
      "\n",
      "See the caveats in the documentation: http://pandas.pydata.org/pandas-docs/stable/indexing.html#indexing-view-versus-copy\n",
      "  This is separate from the ipykernel package so we can avoid doing imports until\n",
      "C:\\Users\\User\\Anaconda3\\lib\\site-packages\\ipykernel_launcher.py:4: SettingWithCopyWarning: \n",
      "A value is trying to be set on a copy of a slice from a DataFrame.\n",
      "Try using .loc[row_indexer,col_indexer] = value instead\n",
      "\n",
      "See the caveats in the documentation: http://pandas.pydata.org/pandas-docs/stable/indexing.html#indexing-view-versus-copy\n",
      "  after removing the cwd from sys.path.\n",
      "C:\\Users\\User\\Anaconda3\\lib\\site-packages\\ipykernel_launcher.py:5: SettingWithCopyWarning: \n",
      "A value is trying to be set on a copy of a slice from a DataFrame.\n",
      "Try using .loc[row_indexer,col_indexer] = value instead\n",
      "\n",
      "See the caveats in the documentation: http://pandas.pydata.org/pandas-docs/stable/indexing.html#indexing-view-versus-copy\n",
      "  \"\"\"\n",
      "C:\\Users\\User\\Anaconda3\\lib\\site-packages\\ipykernel_launcher.py:6: SettingWithCopyWarning: \n",
      "A value is trying to be set on a copy of a slice from a DataFrame.\n",
      "Try using .loc[row_indexer,col_indexer] = value instead\n",
      "\n",
      "See the caveats in the documentation: http://pandas.pydata.org/pandas-docs/stable/indexing.html#indexing-view-versus-copy\n",
      "  \n",
      "C:\\Users\\User\\Anaconda3\\lib\\site-packages\\ipykernel_launcher.py:7: SettingWithCopyWarning: \n",
      "A value is trying to be set on a copy of a slice from a DataFrame.\n",
      "Try using .loc[row_indexer,col_indexer] = value instead\n",
      "\n",
      "See the caveats in the documentation: http://pandas.pydata.org/pandas-docs/stable/indexing.html#indexing-view-versus-copy\n",
      "  import sys\n",
      "C:\\Users\\User\\Anaconda3\\lib\\site-packages\\ipykernel_launcher.py:8: SettingWithCopyWarning: \n",
      "A value is trying to be set on a copy of a slice from a DataFrame.\n",
      "Try using .loc[row_indexer,col_indexer] = value instead\n",
      "\n",
      "See the caveats in the documentation: http://pandas.pydata.org/pandas-docs/stable/indexing.html#indexing-view-versus-copy\n",
      "  \n",
      "C:\\Users\\User\\Anaconda3\\lib\\site-packages\\ipykernel_launcher.py:9: SettingWithCopyWarning: \n",
      "A value is trying to be set on a copy of a slice from a DataFrame.\n",
      "Try using .loc[row_indexer,col_indexer] = value instead\n",
      "\n",
      "See the caveats in the documentation: http://pandas.pydata.org/pandas-docs/stable/indexing.html#indexing-view-versus-copy\n",
      "  if __name__ == '__main__':\n",
      "C:\\Users\\User\\Anaconda3\\lib\\site-packages\\ipykernel_launcher.py:10: SettingWithCopyWarning: \n",
      "A value is trying to be set on a copy of a slice from a DataFrame.\n",
      "Try using .loc[row_indexer,col_indexer] = value instead\n",
      "\n",
      "See the caveats in the documentation: http://pandas.pydata.org/pandas-docs/stable/indexing.html#indexing-view-versus-copy\n",
      "  # Remove the CWD from sys.path while we load stuff.\n",
      "C:\\Users\\User\\Anaconda3\\lib\\site-packages\\ipykernel_launcher.py:11: SettingWithCopyWarning: \n",
      "A value is trying to be set on a copy of a slice from a DataFrame.\n",
      "Try using .loc[row_indexer,col_indexer] = value instead\n",
      "\n",
      "See the caveats in the documentation: http://pandas.pydata.org/pandas-docs/stable/indexing.html#indexing-view-versus-copy\n",
      "  # This is added back by InteractiveShellApp.init_path()\n"
     ]
    }
   ],
   "source": [
    "Posdf['Hour'] = Posdf['Hour']+1.00\n",
    "Posdf['rain'] = Posdf['rain']+1.00\n",
    "Posdf['temp'] = Posdf['temp']+1.00\n",
    "Posdf['msl'] = Posdf['msl']/1000\n",
    "Posdf['NO2'] = Posdf['NO2']+1.00\n",
    "Posdf['SO2'] = Posdf['SO2']+1.00\n",
    "Posdf['CO'] = Posdf['CO']+1.00\n",
    "Posdf['Ozone'] = Posdf['Ozone']+1.00\n",
    "Posdf['PM10'] = Posdf['PM10']+1.00\n",
    "Posdf['wdsp'] = Posdf['wdsp']+1.00\n",
    "Posdf['wddir'] = Posdf['wddir']/360 + 1.00"
   ]
  },
  {
   "cell_type": "markdown",
   "metadata": {},
   "source": [
    "# Create the target dataframes and define functions called in the process of running the algorithms"
   ]
  },
  {
   "cell_type": "code",
   "execution_count": 27,
   "metadata": {},
   "outputs": [],
   "source": [
    "#Feature setups\n",
    "Basedf = Posdf[['Hour', 'rain', 'temp', 'msl', 'wdsp', 'wddir', 'Ozone', 'PM10']].copy()\n",
    "Pollutantdf = Posdf[['Hour', 'rain', 'temp', 'msl', 'wdsp', 'wddir', 'NO2', 'SO2', 'Ozone', 'CO', 'PM10']].copy()\n",
    "dfnowd = Posdf[['Hour', 'rain', 'temp', 'msl', 'NO2', 'SO2', 'Ozone', 'CO', 'PM10']].copy()"
   ]
  },
  {
   "cell_type": "code",
   "execution_count": 28,
   "metadata": {},
   "outputs": [],
   "source": [
    "#Calculate the various statistical arbiters using this function\n",
    "def evaluate_model(X_test, y_test, model):\n",
    "    \n",
    "    # compute predictiond for the test set\n",
    "    _predicted_values = model.predict(X_test)\n",
    "    # compute metrics\n",
    "    _mse = mean_squared_error(y_test, _predicted_values)\n",
    "    _mae = mean_absolute_error(y_test, _predicted_values)\n",
    "    _r2 = r2_score(y_test, _predicted_values)\n",
    "    _meae = median_absolute_error(y_test, _predicted_values)\n",
    "    _evs = explained_variance_score(y_test, _predicted_values)\n",
    "    _me = max_error(y_test, _predicted_values)      \n",
    "    return _mse, _mae, _r2, _meae, _evs, _me"
   ]
  },
  {
   "cell_type": "code",
   "execution_count": 29,
   "metadata": {},
   "outputs": [],
   "source": [
    "#Needed for running the algorithms\n",
    "class AddColumnNames(BaseEstimator, TransformerMixin):\n",
    "    def __init__(self, columns):\n",
    "        self.columns = columns\n",
    "\n",
    "    def fit(self, X, y=None):\n",
    "        return self\n",
    "\n",
    "    def transform(self, X):\n",
    "        return pd.DataFrame(data=X, columns=self.columns)"
   ]
  },
  {
   "cell_type": "code",
   "execution_count": 30,
   "metadata": {},
   "outputs": [],
   "source": [
    "#Needed for running the algorithms\n",
    "class ColumnSelector(BaseEstimator, TransformerMixin):\n",
    "    def __init__(self, columns):\n",
    "        self.columns = columns\n",
    "\n",
    "    def fit(self, X, y=None):\n",
    "        return self\n",
    "\n",
    "    def transform(self, X):\n",
    "        assert isinstance(X, pd.DataFrame)\n",
    "        return X[self.columns]"
   ]
  },
  {
   "cell_type": "markdown",
   "metadata": {},
   "source": [
    "# Functions to conduct Algorithms"
   ]
  },
  {
   "cell_type": "markdown",
   "metadata": {},
   "source": [
    "# Random Forest"
   ]
  },
  {
   "cell_type": "code",
   "execution_count": 31,
   "metadata": {},
   "outputs": [
    {
     "name": "stdout",
     "output_type": "stream",
     "text": [
      "Wall time: 0 ns\n"
     ]
    }
   ],
   "source": [
    "%%time\n",
    "\n",
    "def RandomForest(Name, N_Year, N, printCV, printgraph, N_Features, Max_Depth, ratio, Addfeature):\n",
    "    \n",
    "    Data = N_Year\n",
    "    \n",
    "    # store a list with the names of all predictors we'll try PM10 first\n",
    "    names_all = [c for c in Data if c not in ['PM10']]\n",
    "\n",
    "    column_list = Data.columns.values.tolist()\n",
    "    Removed        = column_list.pop(-1)\n",
    "    \n",
    "    # define column groups with the same data preparation\n",
    "    names_outliers = column_list\n",
    "    print(names_outliers)\n",
    "    names_no_outliers = list(set(names_all) - set(names_outliers))\n",
    "    \n",
    "    y = Data['PM10']\n",
    "    X = Data.drop('PM10', axis=1).values\n",
    "\n",
    "    X_train, X_test, y_train, y_test = train_test_split(X, y, test_size=ratio, shuffle=True)\n",
    "    \n",
    "    preprocess_pipeline = make_pipeline(\n",
    "    AddColumnNames(columns=names_all),\n",
    "    FeatureUnion(transformer_list=[\n",
    "        (\"outlier_columns\", make_pipeline(\n",
    "            ColumnSelector(columns=names_outliers),\n",
    "            FunctionTransformer(np.log, validate=True),\n",
    "            RobustScaler()\n",
    "        )),\n",
    "        (\"no_outlier_columns\", make_pipeline(\n",
    "            ColumnSelector(columns=names_outliers),\n",
    "            FunctionTransformer(np.log, validate=True),\n",
    "            RobustScaler()  \n",
    "        ))\n",
    "    ])\n",
    ")\n",
    "   \n",
    "    #X_train, X_test, y_train, y_test = train_test_split(X, y, test_size=ratio, shuffle=True)\n",
    "    #X_train, y_train = X, y\n",
    "    \n",
    "    pipe = Pipeline(steps=[('preprocess', preprocess_pipeline), \n",
    "                       ('reduce_dim', 'passthrough'),\n",
    "                        ('regresson', RandomForestRegressor(n_estimators=100))])\n",
    "\n",
    "    \n",
    "    #print(len(Data))\n",
    "    \n",
    "    \n",
    "    N_FEATURES_OPTIONS = [N_Features]\n",
    "    MAX_DEPTH_OPTIONS = [Max_Depth]\n",
    "\n",
    "    param_grid = [\n",
    "        {\n",
    "            'reduce_dim': [PCA(iterated_power=7)],\n",
    "            'reduce_dim__n_components': N_FEATURES_OPTIONS,\n",
    "            'regresson__max_depth': MAX_DEPTH_OPTIONS\n",
    "        },\n",
    "        {\n",
    "            'reduce_dim': [RFE(svm.SVR(kernel='linear', gamma='auto')),RFE(LinearRegression())],\n",
    "            'reduce_dim__n_features_to_select': N_FEATURES_OPTIONS,\n",
    "            'regresson__max_depth': MAX_DEPTH_OPTIONS\n",
    "        },\n",
    "        {\n",
    "            'reduce_dim': [FastICA( algorithm='deflation')],\n",
    "            'reduce_dim__n_components': N_FEATURES_OPTIONS,\n",
    "            'regresson__max_depth': MAX_DEPTH_OPTIONS\n",
    "        },\n",
    "        {\n",
    "            'reduce_dim': [TruncatedSVD(algorithm='randomized'), TruncatedSVD(algorithm='arpack')],\n",
    "            'reduce_dim__n_components': N_FEATURES_OPTIONS\n",
    "        },\n",
    "    ]    \n",
    "\n",
    "    search = GridSearchCV(pipe, param_grid, cv=10, iid = False, refit=True)\n",
    "    search.fit(X_train, y_train)\n",
    "\n",
    "    if printCV == 0:\n",
    "        print(\"Best CV score = %0.3f:\" % search.best_score_)\n",
    "        print(\"Best parameters: \", search.best_params_)\n",
    "    \n",
    "        \n",
    " \n",
    "    # store the best params and best model for later use\n",
    "    RF_best_params = search.best_params_\n",
    "    RF_best_model = search.best_estimator_\n",
    "    \n",
    "    if printgraph == 0:\n",
    "        model = RandomForestRegressor()\n",
    "        visualizer = PredictionError(model)\n",
    "\n",
    "        visualizer.fit(X_train, y_train)  # Fit the training data to the visualizer\n",
    "        visualizer.score(X_test, y_test)  # Evaluate the model on the test data\n",
    "        visualizer.show()                 # Finalize and render the figure\n",
    "    \n",
    "    RF_mse, RF_mae, RF_r2, RF_meae, RF_evs, RF_me = evaluate_model(X_test, y_test, RF_best_model)\n",
    "    \n",
    "    Title = np.array([Name])\n",
    "    Range = np.array([N])\n",
    "    Features = np.array([N_Features])\n",
    "    Depth = np.array([Max_Depth])\n",
    "    Split = np.array([ratio])\n",
    "    Add = np.array([Addfeature])\n",
    "    MSE  = np.array([RF_mse])\n",
    "    MAE  = np.array([RF_mae])\n",
    "    R2   = np.array([RF_r2])\n",
    "    MEAE = np.array([RF_meae])\n",
    "    ME   = np.array([RF_me])\n",
    "    \n",
    "    #Predictions = model.predict(X_test)\n",
    "    Modeldf = pd.DataFrame(list(zip(Title, Range, Features, Depth, Split, Add, MSE, MAE, R2, MEAE, ME)), columns =['Algorithm', 'Year', 'N Features', 'Max Depth', 'Test-Train Split', 'Feature Added', 'MSE', 'MAE', 'R2', 'MEAE', 'ME'])\n",
    "    \n",
    "    return Modeldf"
   ]
  },
  {
   "cell_type": "markdown",
   "metadata": {},
   "source": [
    "# Gradient Boosting"
   ]
  },
  {
   "cell_type": "code",
   "execution_count": 32,
   "metadata": {},
   "outputs": [
    {
     "name": "stdout",
     "output_type": "stream",
     "text": [
      "Wall time: 0 ns\n"
     ]
    }
   ],
   "source": [
    "%%time\n",
    "def GradientBoosting(Name, N_Year, N, printCV, printgraph, N_Features, Max_Depth, ratio, Addfeature):\n",
    "    Data = N_Year\n",
    "    \n",
    "    # store a list with the names of all predictors we'll try PM10 first\n",
    "    names_all = [c for c in Data if c not in ['PM10']]\n",
    "\n",
    "    column_list = Data.columns.values.tolist()\n",
    "    Removed        = column_list.pop(-1)\n",
    "    \n",
    "    # define column groups with the same data preparation\n",
    "    names_outliers = column_list\n",
    "    print(names_outliers)\n",
    "    names_no_outliers = list(set(names_all) - set(names_outliers))\n",
    "    \n",
    "    y = Data['PM10']\n",
    "    X = Data.drop('PM10', axis=1).values\n",
    "\n",
    "    X_train, X_test, y_train, y_test = train_test_split(X, y, test_size=ratio, shuffle=True)\n",
    "    \n",
    "    preprocess_pipeline = make_pipeline(\n",
    "    AddColumnNames(columns=names_all),\n",
    "    FeatureUnion(transformer_list=[\n",
    "        (\"outlier_columns\", make_pipeline(\n",
    "            ColumnSelector(columns=names_outliers),\n",
    "            FunctionTransformer(np.log, validate=True),\n",
    "            RobustScaler()\n",
    "        )),\n",
    "        (\"no_outlier_columns\", make_pipeline(\n",
    "            ColumnSelector(columns=names_outliers),\n",
    "            FunctionTransformer(np.log, validate=True),\n",
    "            RobustScaler()  \n",
    "        ))\n",
    "    ])\n",
    ")\n",
    "   \n",
    "    #X_train, y_train = X, y\n",
    "    \n",
    "    pipe = Pipeline(steps=[('preprocess', preprocess_pipeline), \n",
    "                           ('reduce_dim', 'passthrough'),\n",
    "                           ('regresson', GradientBoostingRegressor())])\n",
    "\n",
    "\n",
    "\n",
    "    N_FEATURES_OPTIONS = [N_Features]\n",
    "    MAX_DEPTH_OPTIONS = [Max_Depth]\n",
    "\n",
    "\n",
    "    param_grid = [\n",
    "         {\n",
    "            'reduce_dim': [TruncatedSVD(algorithm='randomized'), TruncatedSVD(algorithm='arpack')],\n",
    "            'reduce_dim__n_components': N_FEATURES_OPTIONS\n",
    "        },\n",
    "        {\n",
    "            'reduce_dim': [FactorAnalysis(svd_method='randomized'), FactorAnalysis(svd_method='lapack')],\n",
    "            'reduce_dim__n_components': N_FEATURES_OPTIONS\n",
    "        },\n",
    "        {\n",
    "            'reduce_dim': [PCA(iterated_power=7)],\n",
    "            'reduce_dim__n_components': N_FEATURES_OPTIONS,\n",
    "            'regresson__max_depth': MAX_DEPTH_OPTIONS\n",
    "        },\n",
    "        {\n",
    "            'reduce_dim': [RFE(svm.SVR(kernel='linear', gamma='auto')),RFE(LinearRegression())],\n",
    "            'reduce_dim__n_features_to_select': N_FEATURES_OPTIONS,\n",
    "            'regresson__max_depth': MAX_DEPTH_OPTIONS\n",
    "        }\n",
    "\n",
    "\n",
    "    ]\n",
    "    search = GridSearchCV(pipe, param_grid, n_jobs=-1, cv=10, iid=False, refit=True)\n",
    "    search.fit(X_train, y_train)\n",
    "    \n",
    "    if printCV == 0:\n",
    "        print(\"Best CV score = %0.3f:\" % search.best_score_)\n",
    "        print(\"Best parameters: \", search.best_params_)\n",
    "\n",
    "    # store the best params and best model for later use\n",
    "    GB_best_params = search.best_params_\n",
    "    GB_best_model = search.best_estimator_\n",
    "    \n",
    "    if printgraph == 0:\n",
    "        model = GradientBoostingRegressor()\n",
    "        visualizer = PredictionError(model)\n",
    "\n",
    "        visualizer.fit(X_train, y_train)  # Fit the training data to the visualizer\n",
    "        visualizer.score(X_test, y_test)  # Evaluate the model on the test data\n",
    "        visualizer.show()                 # Finalize and render the figure\n",
    "\n",
    "    GB_mse, GB_mae, GB_r2, GB_meae, GB_evs, GB_me = evaluate_model(X_test, y_test, GB_best_model)\n",
    "    \n",
    "    Title = np.array([Name])\n",
    "    Range = np.array([N])\n",
    "    Features = np.array([N_Features])\n",
    "    Depth = np.array([Max_Depth])\n",
    "    Split = np.array([ratio])\n",
    "    Add = np.array([Addfeature])\n",
    "    MSE  = np.array([GB_mse])\n",
    "    MAE  = np.array([GB_mae])\n",
    "    R2   = np.array([GB_r2])\n",
    "    MEAE = np.array([GB_meae])\n",
    "    ME   = np.array([GB_me])\n",
    "    \n",
    "    #Predictions = model.predict(X_test)\n",
    "    Modeldf = pd.DataFrame(list(zip(Title, Range, Features, Depth, Split, Add, MSE, MAE, R2, MEAE, ME)), columns =['Algorithm', 'Year', 'N Features', 'Max Depth', 'Test-Train Split', 'Feature Added', 'MSE', 'MAE', 'R2', 'MEAE', 'ME'])\n",
    "    \n",
    "    return Modeldf"
   ]
  },
  {
   "cell_type": "markdown",
   "metadata": {},
   "source": [
    "# ANN"
   ]
  },
  {
   "cell_type": "code",
   "execution_count": 33,
   "metadata": {},
   "outputs": [
    {
     "name": "stdout",
     "output_type": "stream",
     "text": [
      "Wall time: 0 ns\n"
     ]
    }
   ],
   "source": [
    "%%time\n",
    "def ANN(Name, N_Year, N, printCV, printgraph, N_Features, ratio, Addfeature):\n",
    "    Data = N_Year\n",
    "    \n",
    "    # store a list with the names of all predictors we'll try PM10 first\n",
    "    names_all = [c for c in Data if c not in ['PM10']]\n",
    "\n",
    "    column_list = Data.columns.values.tolist()\n",
    "    Removed        = column_list.pop(-1)\n",
    "    \n",
    "    # define column groups with the same data preparation\n",
    "    names_outliers = column_list\n",
    "    print(names_outliers)\n",
    "    names_no_outliers = list(set(names_all) - set(names_outliers))\n",
    "    \n",
    "    y = Data['PM10']\n",
    "    X = Data.drop('PM10', axis=1).values\n",
    "    X_train, X_test, y_train, y_test = train_test_split(X, y, test_size=ratio, shuffle=True)\n",
    "    \n",
    "    preprocess_pipeline = make_pipeline(\n",
    "    AddColumnNames(columns=names_all),\n",
    "    FeatureUnion(transformer_list=[\n",
    "        (\"outlier_columns\", make_pipeline(\n",
    "            ColumnSelector(columns=names_outliers),\n",
    "            FunctionTransformer(np.log, validate=True),\n",
    "            RobustScaler()\n",
    "        )),\n",
    "        (\"no_outlier_columns\", make_pipeline(\n",
    "            ColumnSelector(columns=names_outliers),\n",
    "            FunctionTransformer(np.log, validate=True),\n",
    "            RobustScaler()  \n",
    "        ))\n",
    "    ])\n",
    ")\n",
    "   \n",
    "    #X_train, y_train = X, y\n",
    "    \n",
    "    pipe = Pipeline(steps=[('preprocess', preprocess_pipeline), \n",
    "                       ('reduce_dim', 'passthrough'),\n",
    "                       ('regresson', MLPRegressor ())])\n",
    "\n",
    "\n",
    "\n",
    "    ALPHA = [0.001, 0.01, 0.1, 1, 10, 100], \n",
    "    HIDDEN_LAYER_SIZES = [(6),(11,11),(7,7,7)] \n",
    "    SOLVER = ['adam'] \n",
    "    ACTIVATION = ['relu','tanh','identity','logistic'] \n",
    "    LEARNING_RATE = ['constant','invscaling','adaptive']\n",
    "    N_FEATURES_OPTIONS = [N_Features]\n",
    "    MAX_ITER = [500]\n",
    "\n",
    "    param_grid = [\n",
    "         {\n",
    "            'reduce_dim': [TruncatedSVD(algorithm='randomized'), TruncatedSVD(algorithm='arpack')],\n",
    "            'reduce_dim__n_components': N_FEATURES_OPTIONS\n",
    "        },\n",
    "        {\n",
    "            'reduce_dim': [FactorAnalysis(svd_method='randomized'), FactorAnalysis(svd_method='lapack')],\n",
    "            'reduce_dim__n_components': N_FEATURES_OPTIONS\n",
    "        },\n",
    "\n",
    "    ]\n",
    "    search = GridSearchCV(pipe, param_grid, n_jobs=-1, cv=10, iid=False, refit=True)\n",
    "    search.fit(X_train, y_train)\n",
    "    \n",
    "\n",
    "    if printCV == 0:\n",
    "        print(\"Best CV score = %0.3f:\" % search.best_score_)\n",
    "        print(\"Best parameters: \", search.best_params_)\n",
    "\n",
    "     # store the best params and best model for later use\n",
    "    MLP_best_params = search.best_params_\n",
    "    MLP_best_model = search.best_estimator_\n",
    "    \n",
    "    if printgraph == 0:\n",
    "        model = MLPRegressor()\n",
    "        visualizer = PredictionError(model)\n",
    "\n",
    "        visualizer.fit(X_train, y_train)  # Fit the training data to the visualizer\n",
    "        visualizer.score(X_test, y_test)  # Evaluate the model on the test data\n",
    "        visualizer.show()                 # Finalize and render the figure\n",
    "\n",
    "    MLP_mse, MLP_mae, MLP_r2, MLP_meae, MLP_evs, MLP_me = evaluate_model(X_test, y_test, MLP_best_model)\n",
    "    \n",
    "    Title = np.array([Name])\n",
    "    Range = np.array([N])\n",
    "    Features = np.array([N_Features])\n",
    "    #Depth = np.array([Max_Depth])\n",
    "    Split = np.array([ratio])\n",
    "    Add = np.array([Addfeature])\n",
    "    MSE  = np.array([MLP_mse])\n",
    "    MAE  = np.array([MLP_mae])\n",
    "    R2   = np.array([MLP_r2])\n",
    "    MEAE = np.array([MLP_meae])\n",
    "    ME   = np.array([MLP_me])\n",
    "    \n",
    "    #Predictions = model.predict(X_test)\n",
    "    Modeldf = pd.DataFrame(list(zip(Title, Range, Features, Split, Add, MSE, MAE, R2, MEAE, ME)), columns =['Algorithm', 'Year', 'N Features', 'Test-Train Split', 'Feature Added', 'MSE', 'MAE', 'R2', 'MEAE', 'ME'])\n",
    "    \n",
    "    return Modeldf"
   ]
  },
  {
   "cell_type": "markdown",
   "metadata": {},
   "source": [
    "# Linear Regression"
   ]
  },
  {
   "cell_type": "code",
   "execution_count": 34,
   "metadata": {},
   "outputs": [
    {
     "name": "stdout",
     "output_type": "stream",
     "text": [
      "Wall time: 0 ns\n"
     ]
    }
   ],
   "source": [
    "%%time\n",
    "def LRegress(Name, N_Year, N, printCV, printgraph, N_Features, ratio, Addfeature):    \n",
    "    Data = N_Year\n",
    "    \n",
    "    # store a list with the names of all predictors we'll try PM10 first\n",
    "    names_all = [c for c in Data if c not in ['PM10']]\n",
    "\n",
    "    column_list = Data.columns.values.tolist()\n",
    "    Removed        = column_list.pop(-1)\n",
    "    \n",
    "    # define column groups with the same data preparation\n",
    "    names_outliers = column_list\n",
    "    print(names_outliers)\n",
    "    names_no_outliers = list(set(names_all) - set(names_outliers))\n",
    "    \n",
    "    y = Data['PM10']\n",
    "    X = Data.drop('PM10', axis=1).values\n",
    "    X_train, X_test, y_train, y_test = train_test_split(X, y, test_size=ratio, shuffle=True)\n",
    "    \n",
    "    preprocess_pipeline = make_pipeline(\n",
    "    AddColumnNames(columns=names_all),\n",
    "    FeatureUnion(transformer_list=[\n",
    "        (\"outlier_columns\", make_pipeline(\n",
    "            ColumnSelector(columns=names_outliers),\n",
    "            FunctionTransformer(np.log, validate=True),\n",
    "            RobustScaler()\n",
    "        )),\n",
    "        (\"no_outlier_columns\", make_pipeline(\n",
    "            ColumnSelector(columns=names_outliers),\n",
    "            FunctionTransformer(np.log, validate=True),\n",
    "            RobustScaler()  \n",
    "        ))\n",
    "    ])\n",
    "    )\n",
    "   \n",
    "    #X_train, y_train = X, y\n",
    "    \n",
    "    pipe = Pipeline(steps=[('preprocess', preprocess_pipeline), \n",
    "                       ('reduce_dim', 'passthrough'),\n",
    "                       ('regresson', LinearRegression())])\n",
    "\n",
    "\n",
    "\n",
    "    N_FEATURES_OPTIONS = [N_Features]\n",
    "    NORMALIZE_OPTIONS = [False, True]\n",
    "\n",
    "    param_grid = [\n",
    "    {\n",
    "        'reduce_dim': [PCA(iterated_power=7)],\n",
    "        'reduce_dim__n_components': N_FEATURES_OPTIONS,\n",
    "        'regresson__normalize': NORMALIZE_OPTIONS\n",
    "    },\n",
    "    {\n",
    "        'reduce_dim': [RFE(svm.SVR(kernel='linear', gamma='auto')),RFE(LinearRegression())],\n",
    "        'reduce_dim__n_features_to_select': N_FEATURES_OPTIONS,\n",
    "        'regresson__normalize': NORMALIZE_OPTIONS\n",
    "    },\n",
    "    {\n",
    "        'reduce_dim': [FastICA( algorithm='deflation')],\n",
    "        'reduce_dim__n_components': N_FEATURES_OPTIONS,\n",
    "        'regresson__normalize': NORMALIZE_OPTIONS\n",
    "    },\n",
    "    {\n",
    "        'reduce_dim': [TruncatedSVD(algorithm='randomized'), TruncatedSVD(algorithm='arpack')],\n",
    "        'reduce_dim__n_components': N_FEATURES_OPTIONS\n",
    "    }\n",
    "]\n",
    "\n",
    "    search = GridSearchCV(pipe, param_grid, n_jobs=-1, cv=10, iid=False, refit=True)\n",
    "    search.fit(X_train, y_train)\n",
    "\n",
    "\n",
    "    if printCV == 0:\n",
    "        print(\"Best CV score = %0.3f:\" % search.best_score_)\n",
    "        print(\"Best parameters: \", search.best_params_)\n",
    "\n",
    "     # store the best params and best model for later use\n",
    "    LR_best_params = search.best_params_\n",
    "    LR_best_model = search.best_estimator_\n",
    "    \n",
    "    if printgraph == 0:\n",
    "        model = LinearRegression()\n",
    "        visualizer = PredictionError(model)\n",
    "\n",
    "        visualizer.fit(X_train, y_train)  # Fit the training data to the visualizer\n",
    "        visualizer.score(X_test, y_test)  # Evaluate the model on the test data\n",
    "        visualizer.show()                 # Finalize and render the figure\n",
    "\n",
    "    LR_mse, LR_mae, LR_r2, LR_meae, LR_evs, LR_me = evaluate_model(X_test, y_test, LR_best_model)\n",
    "    \n",
    "    Title = np.array([Name])\n",
    "    Range = np.array([N])\n",
    "    Features = np.array([N_Features])\n",
    "    #Depth = np.array([Max_Depth])\n",
    "    Split = np.array([ratio])\n",
    "    Add = np.array([Addfeature])\n",
    "    MSE  = np.array([LR_mse])\n",
    "    MAE  = np.array([LR_mae])\n",
    "    R2   = np.array([LR_r2])\n",
    "    MEAE = np.array([LR_meae])\n",
    "    ME   = np.array([LR_me])\n",
    "    \n",
    "    #Predictions = model.predict(X_test)\n",
    "    Modeldf = pd.DataFrame(list(zip(Title, Range, Features, Split, Add, MSE, MAE, R2, MEAE, ME)), columns =['Algorithm', 'Year', 'N Features', 'Test-Train Split', 'Feature Added', 'MSE', 'MAE', 'R2', 'MEAE', 'ME'])\n",
    "    \n",
    "    return Modeldf"
   ]
  },
  {
   "cell_type": "markdown",
   "metadata": {},
   "source": [
    "# SVM"
   ]
  },
  {
   "cell_type": "code",
   "execution_count": 35,
   "metadata": {},
   "outputs": [
    {
     "name": "stdout",
     "output_type": "stream",
     "text": [
      "Wall time: 0 ns\n"
     ]
    }
   ],
   "source": [
    "%%time\n",
    "def SVM(Name, N_Year, N, printCV, printgraph, N_Features, ratio, Addfeature):\n",
    "    Data = N_Year\n",
    "    \n",
    "    # store a list with the names of all predictors we'll try PM10 first\n",
    "    names_all = [c for c in Data if c not in ['PM10']]\n",
    "    \n",
    "    column_list = Data.columns.values.tolist()\n",
    "    Removed     = column_list.pop(-1)\n",
    "    \n",
    "    # define column groups with the same data preparation\n",
    "    names_outliers = column_list\n",
    "    print(names_outliers)\n",
    "    names_no_outliers = list(set(names_all) - set(names_outliers))\n",
    "    \n",
    "    y = Data['PM10']\n",
    "    X = Data.drop('PM10', axis=1).values\n",
    "    \n",
    "    X_train, X_test, y_train, y_test = train_test_split(X, y, test_size=ratio, shuffle=True)\n",
    "    \n",
    "    preprocess_pipeline = make_pipeline(\n",
    "    AddColumnNames(columns=names_all),\n",
    "    FeatureUnion(transformer_list=[\n",
    "        (\"outlier_columns\", make_pipeline(\n",
    "            ColumnSelector(columns=names_outliers),\n",
    "            FunctionTransformer(np.log, validate=True),\n",
    "            RobustScaler()\n",
    "        )),\n",
    "        (\"no_outlier_columns\", make_pipeline(\n",
    "            ColumnSelector(columns=names_outliers),\n",
    "            FunctionTransformer(np.log, validate=True),\n",
    "            RobustScaler()  \n",
    "        ))\n",
    "    ])\n",
    ")\n",
    "   \n",
    "    #X_train, y_train = X, y\n",
    "    \n",
    "    pipe = Pipeline(steps=[('preprocess', preprocess_pipeline), \n",
    "                       ('reduce_dim', 'passthrough'),\n",
    "                       ('regresson', SVR())])\n",
    "\n",
    "\n",
    "\n",
    "    KERNEL = ['linear']\n",
    "    C = [300]\n",
    "    GAMMA = ['auto']\n",
    "    N_FEATURES_OPTIONS = [N_Features]\n",
    "\n",
    "\n",
    "    param_grid = [\n",
    "         {\n",
    "            'reduce_dim': [TruncatedSVD(algorithm='randomized'), TruncatedSVD(algorithm='arpack')],\n",
    "            'reduce_dim__n_components': N_FEATURES_OPTIONS\n",
    "        },\n",
    "        {\n",
    "            'reduce_dim': [FactorAnalysis(svd_method='randomized'), FactorAnalysis(svd_method='lapack')],\n",
    "            'reduce_dim__n_components': N_FEATURES_OPTIONS\n",
    "        }\n",
    "    ]\n",
    "    \n",
    "    search = GridSearchCV(pipe, param_grid, n_jobs=-1, cv=10, iid=False, refit=True)\n",
    "    search.fit(X_train, y_train)\n",
    "    \n",
    "\n",
    "    \n",
    "    if printCV == 0:\n",
    "        print(\"Best CV score = %0.3f:\" % search.best_score_)\n",
    "        print(\"Best parameters: \", search.best_params_)\n",
    "\n",
    "     # store the best params and best model for later use\n",
    "    SVR_best_params = search.best_params_\n",
    "    SVR_best_model = search.best_estimator_\n",
    "    \n",
    "    if printgraph == 0:\n",
    "        model = SVR()\n",
    "        visualizer = PredictionError(model)\n",
    "\n",
    "        visualizer.fit(X_train, y_train)  # Fit the training data to the visualizer\n",
    "        visualizer.score(X_test, y_test)  # Evaluate the model on the test data\n",
    "        visualizer.show()                 # Finalize and render the figure\n",
    "\n",
    "    SVR_mse, SVR_mae, SVR_r2, SVR_meae, SVR_evs, SVR_me = evaluate_model(X_test, y_test, SVR_best_model)\n",
    "    \n",
    "    Title = np.array([Name])\n",
    "    Range = np.array([N])\n",
    "    Features = np.array([N_Features])\n",
    "    #Depth = np.array([Max_Depth])\n",
    "    Split = np.array([ratio])\n",
    "    Add = np.array([Addfeature])\n",
    "    MSE  = np.array([SVR_mse])\n",
    "    MAE  = np.array([SVR_mae])\n",
    "    R2   = np.array([SVR_r2])\n",
    "    MEAE = np.array([SVR_meae])\n",
    "    ME   = np.array([SVR_me])\n",
    "    \n",
    "    #Predictions = model.predict(X_test)\n",
    "    Modeldf = pd.DataFrame(list(zip(Title, Range, Features, Split, Add, MSE, MAE, R2, MEAE, ME)), columns =['Algorithm', 'Year', 'N Features', 'Test-Train Split', 'Feature Added', 'MSE', 'MAE', 'R2', 'MEAE', 'ME'])\n",
    "    \n",
    "    return Modeldf"
   ]
  },
  {
   "cell_type": "markdown",
   "metadata": {},
   "source": [
    "# Run the various permutations of Algorithms"
   ]
  },
  {
   "cell_type": "code",
   "execution_count": 36,
   "metadata": {},
   "outputs": [
    {
     "name": "stdout",
     "output_type": "stream",
     "text": [
      "['Hour', 'rain', 'temp', 'msl', 'wdsp', 'wddir', 'Ozone']\n",
      "Best CV score = 0.231:\n",
      "Best parameters:  {'reduce_dim': RFE(estimator=LinearRegression(copy_X=True, fit_intercept=True, n_jobs=None,\n",
      "                               normalize=False),\n",
      "    n_features_to_select=7, step=1, verbose=0), 'reduce_dim__n_features_to_select': 7, 'regresson__max_depth': 12}\n"
     ]
    },
    {
     "name": "stderr",
     "output_type": "stream",
     "text": [
      "C:\\Users\\User\\Anaconda3\\lib\\site-packages\\sklearn\\ensemble\\forest.py:245: FutureWarning: The default value of n_estimators will change from 10 in version 0.20 to 100 in 0.22.\n",
      "  \"10 in version 0.20 to 100 in 0.22.\", FutureWarning)\n"
     ]
    },
    {
     "data": {
      "image/png": "[encoded data removed]",
      "text/plain": [
       "<Figure size 432x288 with 1 Axes>"
      ]
     },
     "metadata": {
      "needs_background": "light"
     },
     "output_type": "display_data"
    },
    {
     "name": "stdout",
     "output_type": "stream",
     "text": [
      "Wall time: 1min 28s\n"
     ]
    }
   ],
   "source": [
    "%%time\n",
    "RF_Base = RandomForest('Random Forest', Basedf, '2018-2019', 0, 0, 7, 12, 0.3, 'None')"
   ]
  },
  {
   "cell_type": "code",
   "execution_count": 37,
   "metadata": {},
   "outputs": [
    {
     "name": "stdout",
     "output_type": "stream",
     "text": [
      "['Hour', 'rain', 'temp', 'msl', 'wdsp', 'wddir', 'NO2', 'SO2', 'Ozone', 'CO']\n",
      "Best CV score = 0.340:\n",
      "Best parameters:  {'reduce_dim': RFE(estimator=SVR(C=1.0, cache_size=200, coef0=0.0, degree=3, epsilon=0.1,\n",
      "                  gamma='auto', kernel='linear', max_iter=-1, shrinking=True,\n",
      "                  tol=0.001, verbose=False),\n",
      "    n_features_to_select=10, step=1, verbose=0), 'reduce_dim__n_features_to_select': 10, 'regresson__max_depth': 12}\n"
     ]
    },
    {
     "name": "stderr",
     "output_type": "stream",
     "text": [
      "C:\\Users\\User\\Anaconda3\\lib\\site-packages\\sklearn\\ensemble\\forest.py:245: FutureWarning: The default value of n_estimators will change from 10 in version 0.20 to 100 in 0.22.\n",
      "  \"10 in version 0.20 to 100 in 0.22.\", FutureWarning)\n"
     ]
    },
    {
     "data": {
      "image/png": "[encoded data removed]",
      "text/plain": [
       "<Figure size 432x288 with 1 Axes>"
      ]
     },
     "metadata": {
      "needs_background": "light"
     },
     "output_type": "display_data"
    },
    {
     "name": "stdout",
     "output_type": "stream",
     "text": [
      "Wall time: 2min 55s\n"
     ]
    }
   ],
   "source": [
    "%%time\n",
    "RF_Pollutant = RandomForest('Random Forest', Pollutantdf, '2018-2019', 0, 0, 10, 12, 0.3, 'NO2, SO2, CO')"
   ]
  },
  {
   "cell_type": "code",
   "execution_count": 38,
   "metadata": {},
   "outputs": [
    {
     "name": "stdout",
     "output_type": "stream",
     "text": [
      "['Hour', 'rain', 'temp', 'msl', 'NO2', 'SO2', 'Ozone', 'CO']\n",
      "Best CV score = 0.293:\n",
      "Best parameters:  {'reduce_dim': RFE(estimator=LinearRegression(copy_X=True, fit_intercept=True, n_jobs=None,\n",
      "                               normalize=False),\n",
      "    n_features_to_select=8, step=1, verbose=0), 'reduce_dim__n_features_to_select': 8, 'regresson__max_depth': 12}\n"
     ]
    },
    {
     "name": "stderr",
     "output_type": "stream",
     "text": [
      "C:\\Users\\User\\Anaconda3\\lib\\site-packages\\sklearn\\ensemble\\forest.py:245: FutureWarning: The default value of n_estimators will change from 10 in version 0.20 to 100 in 0.22.\n",
      "  \"10 in version 0.20 to 100 in 0.22.\", FutureWarning)\n"
     ]
    },
    {
     "data": {
      "image/png": "[encoded data removed]",
      "text/plain": [
       "<Figure size 432x288 with 1 Axes>"
      ]
     },
     "metadata": {
      "needs_background": "light"
     },
     "output_type": "display_data"
    },
    {
     "name": "stdout",
     "output_type": "stream",
     "text": [
      "Wall time: 2min 14s\n"
     ]
    }
   ],
   "source": [
    "%%time\n",
    "RF_NOWD = RandomForest('Random Forest', dfnowd, '2018-2019', 0, 0, 8, 12, 0.3, 'NO WIND')"
   ]
  },
  {
   "cell_type": "code",
   "execution_count": 39,
   "metadata": {},
   "outputs": [
    {
     "data": {
      "text/html": [
       "<div>\n",
       "<style scoped>\n",
       "    .dataframe tbody tr th:only-of-type {\n",
       "        vertical-align: middle;\n",
       "    }\n",
       "\n",
       "    .dataframe tbody tr th {\n",
       "        vertical-align: top;\n",
       "    }\n",
       "\n",
       "    .dataframe thead th {\n",
       "        text-align: right;\n",
       "    }\n",
       "</style>\n",
       "<table border=\"1\" class=\"dataframe\">\n",
       "  <thead>\n",
       "    <tr style=\"text-align: right;\">\n",
       "      <th></th>\n",
       "      <th>Algorithm</th>\n",
       "      <th>Year</th>\n",
       "      <th>N Features</th>\n",
       "      <th>Max Depth</th>\n",
       "      <th>Test-Train Split</th>\n",
       "      <th>Feature Added</th>\n",
       "      <th>MSE</th>\n",
       "      <th>MAE</th>\n",
       "      <th>R2</th>\n",
       "      <th>MEAE</th>\n",
       "      <th>ME</th>\n",
       "      <th>Run Time</th>\n",
       "    </tr>\n",
       "  </thead>\n",
       "  <tbody>\n",
       "    <tr>\n",
       "      <th>0</th>\n",
       "      <td>Random Forest</td>\n",
       "      <td>2018-2019</td>\n",
       "      <td>7</td>\n",
       "      <td>12</td>\n",
       "      <td>0.3</td>\n",
       "      <td>None</td>\n",
       "      <td>7637.406533</td>\n",
       "      <td>28.049683</td>\n",
       "      <td>0.494099</td>\n",
       "      <td>8.798956</td>\n",
       "      <td>964.289803</td>\n",
       "      <td>3m 26s</td>\n",
       "    </tr>\n",
       "    <tr>\n",
       "      <th>0</th>\n",
       "      <td>Random Forest</td>\n",
       "      <td>2018-2019</td>\n",
       "      <td>10</td>\n",
       "      <td>12</td>\n",
       "      <td>0.3</td>\n",
       "      <td>NO2, SO2, CO</td>\n",
       "      <td>9757.715928</td>\n",
       "      <td>27.041526</td>\n",
       "      <td>0.283496</td>\n",
       "      <td>6.802613</td>\n",
       "      <td>960.247582</td>\n",
       "      <td>5m 49s</td>\n",
       "    </tr>\n",
       "    <tr>\n",
       "      <th>0</th>\n",
       "      <td>Random Forest</td>\n",
       "      <td>2018-2019</td>\n",
       "      <td>8</td>\n",
       "      <td>12</td>\n",
       "      <td>0.3</td>\n",
       "      <td>NO WIND</td>\n",
       "      <td>6621.703076</td>\n",
       "      <td>24.785300</td>\n",
       "      <td>0.450985</td>\n",
       "      <td>6.661500</td>\n",
       "      <td>882.857619</td>\n",
       "      <td>4m 14s</td>\n",
       "    </tr>\n",
       "  </tbody>\n",
       "</table>\n",
       "</div>"
      ],
      "text/plain": [
       "       Algorithm       Year  N Features  Max Depth  Test-Train Split  \\\n",
       "0  Random Forest  2018-2019           7         12               0.3   \n",
       "0  Random Forest  2018-2019          10         12               0.3   \n",
       "0  Random Forest  2018-2019           8         12               0.3   \n",
       "\n",
       "  Feature Added          MSE        MAE        R2      MEAE          ME  \\\n",
       "0          None  7637.406533  28.049683  0.494099  8.798956  964.289803   \n",
       "0  NO2, SO2, CO  9757.715928  27.041526  0.283496  6.802613  960.247582   \n",
       "0       NO WIND  6621.703076  24.785300  0.450985  6.661500  882.857619   \n",
       "\n",
       "  Run Time  \n",
       "0   3m 26s  \n",
       "0   5m 49s  \n",
       "0   4m 14s  "
      ]
     },
     "metadata": {},
     "output_type": "display_data"
    }
   ],
   "source": [
    "RFTime = ['3m 26s', '5m 49s', '4m 14s']\n",
    "\n",
    "RFData = pd.concat([RF_Base, RF_Pollutant, RF_NOWD])\n",
    "RFData['Run Time'] = RFTime \n",
    "display(RFData)"
   ]
  },
  {
   "cell_type": "code",
   "execution_count": 40,
   "metadata": {},
   "outputs": [
    {
     "name": "stdout",
     "output_type": "stream",
     "text": [
      "['Hour', 'rain', 'temp', 'msl', 'wdsp', 'wddir', 'Ozone']\n",
      "Best CV score = -0.007:\n",
      "Best parameters:  {'reduce_dim': TruncatedSVD(algorithm='arpack', n_components=7, n_iter=5, random_state=None,\n",
      "             tol=0.0), 'reduce_dim__n_components': 7}\n"
     ]
    },
    {
     "data": {
      "image/png": "[encoded data removed]",
      "text/plain": [
       "<Figure size 432x288 with 1 Axes>"
      ]
     },
     "metadata": {
      "needs_background": "light"
     },
     "output_type": "display_data"
    },
    {
     "name": "stdout",
     "output_type": "stream",
     "text": [
      "Wall time: 23.1 s\n"
     ]
    }
   ],
   "source": [
    "%%time\n",
    "GB_Base = GradientBoosting('Gradient Boosting', Basedf, '2018-2019', 0, 0, 7, 12, 0.3, 'None')"
   ]
  },
  {
   "cell_type": "code",
   "execution_count": 41,
   "metadata": {},
   "outputs": [
    {
     "name": "stdout",
     "output_type": "stream",
     "text": [
      "['Hour', 'rain', 'temp', 'msl', 'wdsp', 'wddir', 'NO2', 'SO2', 'Ozone', 'CO']\n",
      "Best CV score = 0.259:\n",
      "Best parameters:  {'reduce_dim': FactorAnalysis(copy=True, iterated_power=3, max_iter=1000, n_components=10,\n",
      "               noise_variance_init=None, random_state=0, svd_method='lapack',\n",
      "               tol=0.01), 'reduce_dim__n_components': 10}\n"
     ]
    },
    {
     "data": {
      "image/png": "[encoded data removed]",
      "text/plain": [
       "<Figure size 432x288 with 1 Axes>"
      ]
     },
     "metadata": {
      "needs_background": "light"
     },
     "output_type": "display_data"
    },
    {
     "name": "stdout",
     "output_type": "stream",
     "text": [
      "Wall time: 26.6 s\n"
     ]
    }
   ],
   "source": [
    "%%time\n",
    "GB_Pollutant = GradientBoosting('Gradient Boosting', Pollutantdf, '2018-2019', 0, 0, 10, 12, 0.3, 'NO2, SO2, CO')"
   ]
  },
  {
   "cell_type": "code",
   "execution_count": 42,
   "metadata": {},
   "outputs": [
    {
     "name": "stdout",
     "output_type": "stream",
     "text": [
      "['Hour', 'rain', 'temp', 'msl', 'NO2', 'SO2', 'Ozone', 'CO']\n",
      "Best CV score = -1.268:\n",
      "Best parameters:  {'reduce_dim': FactorAnalysis(copy=True, iterated_power=3, max_iter=1000, n_components=8,\n",
      "               noise_variance_init=None, random_state=0,\n",
      "               svd_method='randomized', tol=0.01), 'reduce_dim__n_components': 8}\n"
     ]
    },
    {
     "data": {
      "image/png": "[encoded data removed]",
      "text/plain": [
       "<Figure size 432x288 with 1 Axes>"
      ]
     },
     "metadata": {
      "needs_background": "light"
     },
     "output_type": "display_data"
    },
    {
     "name": "stdout",
     "output_type": "stream",
     "text": [
      "Wall time: 25 s\n"
     ]
    }
   ],
   "source": [
    "%%time\n",
    "GB_NOWD = GradientBoosting('Gradient Boosting', dfnowd, '2018-2019', 0, 0, 8, 12, 0.3, 'NO WIND')"
   ]
  },
  {
   "cell_type": "code",
   "execution_count": 43,
   "metadata": {},
   "outputs": [
    {
     "data": {
      "text/html": [
       "<div>\n",
       "<style scoped>\n",
       "    .dataframe tbody tr th:only-of-type {\n",
       "        vertical-align: middle;\n",
       "    }\n",
       "\n",
       "    .dataframe tbody tr th {\n",
       "        vertical-align: top;\n",
       "    }\n",
       "\n",
       "    .dataframe thead th {\n",
       "        text-align: right;\n",
       "    }\n",
       "</style>\n",
       "<table border=\"1\" class=\"dataframe\">\n",
       "  <thead>\n",
       "    <tr style=\"text-align: right;\">\n",
       "      <th></th>\n",
       "      <th>Algorithm</th>\n",
       "      <th>Year</th>\n",
       "      <th>N Features</th>\n",
       "      <th>Max Depth</th>\n",
       "      <th>Test-Train Split</th>\n",
       "      <th>Feature Added</th>\n",
       "      <th>MSE</th>\n",
       "      <th>MAE</th>\n",
       "      <th>R2</th>\n",
       "      <th>MEAE</th>\n",
       "      <th>ME</th>\n",
       "      <th>Run Time</th>\n",
       "    </tr>\n",
       "  </thead>\n",
       "  <tbody>\n",
       "    <tr>\n",
       "      <th>0</th>\n",
       "      <td>Gradient Boosting</td>\n",
       "      <td>2018-2019</td>\n",
       "      <td>7</td>\n",
       "      <td>12</td>\n",
       "      <td>0.3</td>\n",
       "      <td>None</td>\n",
       "      <td>14449.535041</td>\n",
       "      <td>39.376106</td>\n",
       "      <td>-0.065032</td>\n",
       "      <td>15.329213</td>\n",
       "      <td>966.260262</td>\n",
       "      <td>1m 1s</td>\n",
       "    </tr>\n",
       "    <tr>\n",
       "      <th>0</th>\n",
       "      <td>Gradient Boosting</td>\n",
       "      <td>2018-2019</td>\n",
       "      <td>10</td>\n",
       "      <td>12</td>\n",
       "      <td>0.3</td>\n",
       "      <td>NO2, SO2, CO</td>\n",
       "      <td>10022.319338</td>\n",
       "      <td>33.169812</td>\n",
       "      <td>0.162747</td>\n",
       "      <td>13.531611</td>\n",
       "      <td>957.890693</td>\n",
       "      <td>1m 23s</td>\n",
       "    </tr>\n",
       "    <tr>\n",
       "      <th>0</th>\n",
       "      <td>Gradient Boosting</td>\n",
       "      <td>2018-2019</td>\n",
       "      <td>8</td>\n",
       "      <td>12</td>\n",
       "      <td>0.3</td>\n",
       "      <td>NO WIND</td>\n",
       "      <td>17438.322784</td>\n",
       "      <td>38.493376</td>\n",
       "      <td>0.079654</td>\n",
       "      <td>10.458780</td>\n",
       "      <td>967.585898</td>\n",
       "      <td>58s</td>\n",
       "    </tr>\n",
       "  </tbody>\n",
       "</table>\n",
       "</div>"
      ],
      "text/plain": [
       "           Algorithm       Year  N Features  Max Depth  Test-Train Split  \\\n",
       "0  Gradient Boosting  2018-2019           7         12               0.3   \n",
       "0  Gradient Boosting  2018-2019          10         12               0.3   \n",
       "0  Gradient Boosting  2018-2019           8         12               0.3   \n",
       "\n",
       "  Feature Added           MSE        MAE        R2       MEAE          ME  \\\n",
       "0          None  14449.535041  39.376106 -0.065032  15.329213  966.260262   \n",
       "0  NO2, SO2, CO  10022.319338  33.169812  0.162747  13.531611  957.890693   \n",
       "0       NO WIND  17438.322784  38.493376  0.079654  10.458780  967.585898   \n",
       "\n",
       "  Run Time  \n",
       "0    1m 1s  \n",
       "0   1m 23s  \n",
       "0      58s  "
      ]
     },
     "metadata": {},
     "output_type": "display_data"
    }
   ],
   "source": [
    "GBTime = ['1m 1s', '1m 23s', '58s']\n",
    "\n",
    "GBData = pd.concat([GB_Base, GB_Pollutant, GB_NOWD])\n",
    "GBData['Run Time'] = GBTime \n",
    "display(GBData)"
   ]
  },
  {
   "cell_type": "code",
   "execution_count": 44,
   "metadata": {},
   "outputs": [
    {
     "name": "stdout",
     "output_type": "stream",
     "text": [
      "['Hour', 'rain', 'temp', 'msl', 'wdsp', 'wddir', 'Ozone']\n"
     ]
    },
    {
     "name": "stderr",
     "output_type": "stream",
     "text": [
      "C:\\Users\\User\\Anaconda3\\lib\\site-packages\\sklearn\\neural_network\\multilayer_perceptron.py:566: ConvergenceWarning: Stochastic Optimizer: Maximum iterations (200) reached and the optimization hasn't converged yet.\n",
      "  % self.max_iter, ConvergenceWarning)\n"
     ]
    },
    {
     "name": "stdout",
     "output_type": "stream",
     "text": [
      "Best CV score = -0.250:\n",
      "Best parameters:  {'reduce_dim': FactorAnalysis(copy=True, iterated_power=3, max_iter=1000, n_components=7,\n",
      "               noise_variance_init=None, random_state=0,\n",
      "               svd_method='randomized', tol=0.01), 'reduce_dim__n_components': 7}\n"
     ]
    },
    {
     "name": "stderr",
     "output_type": "stream",
     "text": [
      "C:\\Users\\User\\Anaconda3\\lib\\site-packages\\sklearn\\neural_network\\multilayer_perceptron.py:566: ConvergenceWarning: Stochastic Optimizer: Maximum iterations (200) reached and the optimization hasn't converged yet.\n",
      "  % self.max_iter, ConvergenceWarning)\n"
     ]
    },
    {
     "data": {
      "image/png": "[encoded data removed]",
      "text/plain": [
       "<Figure size 432x288 with 1 Axes>"
      ]
     },
     "metadata": {
      "needs_background": "light"
     },
     "output_type": "display_data"
    },
    {
     "name": "stdout",
     "output_type": "stream",
     "text": [
      "Wall time: 23.3 s\n"
     ]
    }
   ],
   "source": [
    "%%time\n",
    "MLP_Base = ANN('ANN', Basedf, '2018-2019', 0, 0, 7, 0.3, 'None')"
   ]
  },
  {
   "cell_type": "code",
   "execution_count": 45,
   "metadata": {},
   "outputs": [
    {
     "name": "stdout",
     "output_type": "stream",
     "text": [
      "['Hour', 'rain', 'temp', 'msl', 'wdsp', 'wddir', 'NO2', 'SO2', 'Ozone', 'CO']\n"
     ]
    },
    {
     "name": "stderr",
     "output_type": "stream",
     "text": [
      "C:\\Users\\User\\Anaconda3\\lib\\site-packages\\sklearn\\neural_network\\multilayer_perceptron.py:566: ConvergenceWarning: Stochastic Optimizer: Maximum iterations (200) reached and the optimization hasn't converged yet.\n",
      "  % self.max_iter, ConvergenceWarning)\n"
     ]
    },
    {
     "name": "stdout",
     "output_type": "stream",
     "text": [
      "Best CV score = 0.085:\n",
      "Best parameters:  {'reduce_dim': FactorAnalysis(copy=True, iterated_power=3, max_iter=1000, n_components=10,\n",
      "               noise_variance_init=None, random_state=0, svd_method='lapack',\n",
      "               tol=0.01), 'reduce_dim__n_components': 10}\n"
     ]
    },
    {
     "name": "stderr",
     "output_type": "stream",
     "text": [
      "C:\\Users\\User\\Anaconda3\\lib\\site-packages\\sklearn\\neural_network\\multilayer_perceptron.py:566: ConvergenceWarning: Stochastic Optimizer: Maximum iterations (200) reached and the optimization hasn't converged yet.\n",
      "  % self.max_iter, ConvergenceWarning)\n"
     ]
    },
    {
     "data": {
      "image/png": "[encoded data removed]",
      "text/plain": [
       "<Figure size 432x288 with 1 Axes>"
      ]
     },
     "metadata": {
      "needs_background": "light"
     },
     "output_type": "display_data"
    },
    {
     "name": "stdout",
     "output_type": "stream",
     "text": [
      "Wall time: 22.7 s\n"
     ]
    }
   ],
   "source": [
    "%%time\n",
    "MLP_Pollutant = ANN('ANN', Pollutantdf, '2018-2019', 0, 0, 10, 0.3, 'NO2, SO2, CO')"
   ]
  },
  {
   "cell_type": "code",
   "execution_count": 46,
   "metadata": {},
   "outputs": [
    {
     "name": "stdout",
     "output_type": "stream",
     "text": [
      "['Hour', 'rain', 'temp', 'msl', 'NO2', 'SO2', 'Ozone', 'CO']\n"
     ]
    },
    {
     "name": "stderr",
     "output_type": "stream",
     "text": [
      "C:\\Users\\User\\Anaconda3\\lib\\site-packages\\sklearn\\neural_network\\multilayer_perceptron.py:566: ConvergenceWarning: Stochastic Optimizer: Maximum iterations (200) reached and the optimization hasn't converged yet.\n",
      "  % self.max_iter, ConvergenceWarning)\n"
     ]
    },
    {
     "name": "stdout",
     "output_type": "stream",
     "text": [
      "Best CV score = 0.021:\n",
      "Best parameters:  {'reduce_dim': TruncatedSVD(algorithm='arpack', n_components=8, n_iter=5, random_state=None,\n",
      "             tol=0.0), 'reduce_dim__n_components': 8}\n"
     ]
    },
    {
     "name": "stderr",
     "output_type": "stream",
     "text": [
      "C:\\Users\\User\\Anaconda3\\lib\\site-packages\\sklearn\\neural_network\\multilayer_perceptron.py:566: ConvergenceWarning: Stochastic Optimizer: Maximum iterations (200) reached and the optimization hasn't converged yet.\n",
      "  % self.max_iter, ConvergenceWarning)\n"
     ]
    },
    {
     "data": {
      "image/png": "[encoded data removed]",
      "text/plain": [
       "<Figure size 432x288 with 1 Axes>"
      ]
     },
     "metadata": {
      "needs_background": "light"
     },
     "output_type": "display_data"
    },
    {
     "name": "stdout",
     "output_type": "stream",
     "text": [
      "Wall time: 22.9 s\n"
     ]
    }
   ],
   "source": [
    "%%time\n",
    "MLP_NOWD = ANN('ANN', dfnowd, '2017-2019', 0, 0, 8, 0.3, 'NO WIND')"
   ]
  },
  {
   "cell_type": "code",
   "execution_count": 47,
   "metadata": {},
   "outputs": [
    {
     "data": {
      "text/html": [
       "<div>\n",
       "<style scoped>\n",
       "    .dataframe tbody tr th:only-of-type {\n",
       "        vertical-align: middle;\n",
       "    }\n",
       "\n",
       "    .dataframe tbody tr th {\n",
       "        vertical-align: top;\n",
       "    }\n",
       "\n",
       "    .dataframe thead th {\n",
       "        text-align: right;\n",
       "    }\n",
       "</style>\n",
       "<table border=\"1\" class=\"dataframe\">\n",
       "  <thead>\n",
       "    <tr style=\"text-align: right;\">\n",
       "      <th></th>\n",
       "      <th>Algorithm</th>\n",
       "      <th>Year</th>\n",
       "      <th>N Features</th>\n",
       "      <th>Test-Train Split</th>\n",
       "      <th>Feature Added</th>\n",
       "      <th>MSE</th>\n",
       "      <th>MAE</th>\n",
       "      <th>R2</th>\n",
       "      <th>MEAE</th>\n",
       "      <th>ME</th>\n",
       "      <th>Run Time</th>\n",
       "    </tr>\n",
       "  </thead>\n",
       "  <tbody>\n",
       "    <tr>\n",
       "      <th>0</th>\n",
       "      <td>ANN</td>\n",
       "      <td>2018-2019</td>\n",
       "      <td>7</td>\n",
       "      <td>0.3</td>\n",
       "      <td>None</td>\n",
       "      <td>22788.380796</td>\n",
       "      <td>43.507205</td>\n",
       "      <td>0.033532</td>\n",
       "      <td>16.750666</td>\n",
       "      <td>955.623666</td>\n",
       "      <td>1m 18s</td>\n",
       "    </tr>\n",
       "    <tr>\n",
       "      <th>0</th>\n",
       "      <td>ANN</td>\n",
       "      <td>2018-2019</td>\n",
       "      <td>10</td>\n",
       "      <td>0.3</td>\n",
       "      <td>NO2, SO2, CO</td>\n",
       "      <td>13159.514812</td>\n",
       "      <td>40.736166</td>\n",
       "      <td>0.127265</td>\n",
       "      <td>18.674860</td>\n",
       "      <td>951.290475</td>\n",
       "      <td>3m 11s</td>\n",
       "    </tr>\n",
       "    <tr>\n",
       "      <th>0</th>\n",
       "      <td>ANN</td>\n",
       "      <td>2017-2019</td>\n",
       "      <td>8</td>\n",
       "      <td>0.3</td>\n",
       "      <td>NO WIND</td>\n",
       "      <td>11823.676957</td>\n",
       "      <td>35.570835</td>\n",
       "      <td>0.075477</td>\n",
       "      <td>18.299435</td>\n",
       "      <td>923.526466</td>\n",
       "      <td>1m 9s</td>\n",
       "    </tr>\n",
       "  </tbody>\n",
       "</table>\n",
       "</div>"
      ],
      "text/plain": [
       "  Algorithm       Year  N Features  Test-Train Split Feature Added  \\\n",
       "0       ANN  2018-2019           7               0.3          None   \n",
       "0       ANN  2018-2019          10               0.3  NO2, SO2, CO   \n",
       "0       ANN  2017-2019           8               0.3       NO WIND   \n",
       "\n",
       "            MSE        MAE        R2       MEAE          ME Run Time  \n",
       "0  22788.380796  43.507205  0.033532  16.750666  955.623666   1m 18s  \n",
       "0  13159.514812  40.736166  0.127265  18.674860  951.290475   3m 11s  \n",
       "0  11823.676957  35.570835  0.075477  18.299435  923.526466    1m 9s  "
      ]
     },
     "metadata": {},
     "output_type": "display_data"
    }
   ],
   "source": [
    "MLPTime = ['1m 18s', '3m 11s', '1m 9s']\n",
    "\n",
    "MLPData = pd.concat([MLP_Base, MLP_Pollutant, MLP_NOWD])\n",
    "MLPData['Run Time'] = MLPTime \n",
    "display(MLPData)"
   ]
  },
  {
   "cell_type": "code",
   "execution_count": 48,
   "metadata": {},
   "outputs": [
    {
     "name": "stdout",
     "output_type": "stream",
     "text": [
      "['Hour', 'rain', 'temp', 'msl', 'wdsp', 'wddir', 'Ozone']\n",
      "Best CV score = -0.008:\n",
      "Best parameters:  {'reduce_dim': RFE(estimator=SVR(C=1.0, cache_size=200, coef0=0.0, degree=3, epsilon=0.1,\n",
      "                  gamma='auto', kernel='linear', max_iter=-1, shrinking=True,\n",
      "                  tol=0.001, verbose=False),\n",
      "    n_features_to_select=7, step=1, verbose=0), 'reduce_dim__n_features_to_select': 7, 'regresson__normalize': True}\n"
     ]
    },
    {
     "data": {
      "image/png": "[encoded data removed]",
      "text/plain": [
       "<Figure size 432x288 with 1 Axes>"
      ]
     },
     "metadata": {
      "needs_background": "light"
     },
     "output_type": "display_data"
    },
    {
     "name": "stdout",
     "output_type": "stream",
     "text": [
      "Wall time: 23.9 s\n"
     ]
    }
   ],
   "source": [
    "%%time\n",
    "LR_Base = LRegress('Linear Regression', Basedf, '2018-2019', 0, 0, 7, 0.3, 'None')"
   ]
  },
  {
   "cell_type": "code",
   "execution_count": 49,
   "metadata": {},
   "outputs": [
    {
     "name": "stdout",
     "output_type": "stream",
     "text": [
      "['Hour', 'rain', 'temp', 'msl', 'wdsp', 'wddir', 'NO2', 'SO2', 'Ozone', 'CO']\n",
      "Best CV score = 0.010:\n",
      "Best parameters:  {'reduce_dim': PCA(copy=True, iterated_power=7, n_components=10, random_state=None,\n",
      "    svd_solver='auto', tol=0.0, whiten=False), 'reduce_dim__n_components': 10, 'regresson__normalize': False}\n"
     ]
    },
    {
     "data": {
      "image/png": "[encoded data removed]",
      "text/plain": [
       "<Figure size 432x288 with 1 Axes>"
      ]
     },
     "metadata": {
      "needs_background": "light"
     },
     "output_type": "display_data"
    },
    {
     "name": "stdout",
     "output_type": "stream",
     "text": [
      "Wall time: 31.3 s\n"
     ]
    }
   ],
   "source": [
    "%%time\n",
    "LR_Pollutant = LRegress('Linear Regression', Pollutantdf, '2018-2019', 0, 0, 10, 0.3, 'NO2, SO2, CO')"
   ]
  },
  {
   "cell_type": "code",
   "execution_count": 50,
   "metadata": {},
   "outputs": [
    {
     "name": "stdout",
     "output_type": "stream",
     "text": [
      "['Hour', 'rain', 'temp', 'msl', 'NO2', 'SO2', 'Ozone', 'CO']\n",
      "Best CV score = -0.178:\n",
      "Best parameters:  {'reduce_dim': RFE(estimator=SVR(C=1.0, cache_size=200, coef0=0.0, degree=3, epsilon=0.1,\n",
      "                  gamma='auto', kernel='linear', max_iter=-1, shrinking=True,\n",
      "                  tol=0.001, verbose=False),\n",
      "    n_features_to_select=8, step=1, verbose=0), 'reduce_dim__n_features_to_select': 8, 'regresson__normalize': False}\n"
     ]
    },
    {
     "data": {
      "image/png": "[encoded data removed]",
      "text/plain": [
       "<Figure size 432x288 with 1 Axes>"
      ]
     },
     "metadata": {
      "needs_background": "light"
     },
     "output_type": "display_data"
    },
    {
     "name": "stdout",
     "output_type": "stream",
     "text": [
      "Wall time: 24.6 s\n"
     ]
    }
   ],
   "source": [
    "%%time\n",
    "LR_NOWD = LRegress('Linear Regression', dfnowd, '2018-2019', 0, 0, 8, 0.3, 'NO WIND')"
   ]
  },
  {
   "cell_type": "code",
   "execution_count": 51,
   "metadata": {},
   "outputs": [
    {
     "data": {
      "text/html": [
       "<div>\n",
       "<style scoped>\n",
       "    .dataframe tbody tr th:only-of-type {\n",
       "        vertical-align: middle;\n",
       "    }\n",
       "\n",
       "    .dataframe tbody tr th {\n",
       "        vertical-align: top;\n",
       "    }\n",
       "\n",
       "    .dataframe thead th {\n",
       "        text-align: right;\n",
       "    }\n",
       "</style>\n",
       "<table border=\"1\" class=\"dataframe\">\n",
       "  <thead>\n",
       "    <tr style=\"text-align: right;\">\n",
       "      <th></th>\n",
       "      <th>Algorithm</th>\n",
       "      <th>Year</th>\n",
       "      <th>N Features</th>\n",
       "      <th>Test-Train Split</th>\n",
       "      <th>Feature Added</th>\n",
       "      <th>MSE</th>\n",
       "      <th>MAE</th>\n",
       "      <th>R2</th>\n",
       "      <th>MEAE</th>\n",
       "      <th>ME</th>\n",
       "      <th>Run Time</th>\n",
       "    </tr>\n",
       "  </thead>\n",
       "  <tbody>\n",
       "    <tr>\n",
       "      <th>0</th>\n",
       "      <td>Linear Regression</td>\n",
       "      <td>2018-2019</td>\n",
       "      <td>7</td>\n",
       "      <td>0.3</td>\n",
       "      <td>None</td>\n",
       "      <td>18761.516673</td>\n",
       "      <td>38.270040</td>\n",
       "      <td>0.007668</td>\n",
       "      <td>19.754681</td>\n",
       "      <td>948.642854</td>\n",
       "      <td>1m 11s</td>\n",
       "    </tr>\n",
       "    <tr>\n",
       "      <th>0</th>\n",
       "      <td>Linear Regression</td>\n",
       "      <td>2018-2019</td>\n",
       "      <td>10</td>\n",
       "      <td>0.3</td>\n",
       "      <td>NO2, SO2, CO</td>\n",
       "      <td>11475.137023</td>\n",
       "      <td>36.400445</td>\n",
       "      <td>0.043482</td>\n",
       "      <td>21.800672</td>\n",
       "      <td>950.478549</td>\n",
       "      <td>1m 45s</td>\n",
       "    </tr>\n",
       "    <tr>\n",
       "      <th>0</th>\n",
       "      <td>Linear Regression</td>\n",
       "      <td>2018-2019</td>\n",
       "      <td>8</td>\n",
       "      <td>0.3</td>\n",
       "      <td>NO WIND</td>\n",
       "      <td>20416.899762</td>\n",
       "      <td>38.550843</td>\n",
       "      <td>0.004946</td>\n",
       "      <td>16.960230</td>\n",
       "      <td>977.839738</td>\n",
       "      <td>1m 9s</td>\n",
       "    </tr>\n",
       "  </tbody>\n",
       "</table>\n",
       "</div>"
      ],
      "text/plain": [
       "           Algorithm       Year  N Features  Test-Train Split Feature Added  \\\n",
       "0  Linear Regression  2018-2019           7               0.3          None   \n",
       "0  Linear Regression  2018-2019          10               0.3  NO2, SO2, CO   \n",
       "0  Linear Regression  2018-2019           8               0.3       NO WIND   \n",
       "\n",
       "            MSE        MAE        R2       MEAE          ME Run Time  \n",
       "0  18761.516673  38.270040  0.007668  19.754681  948.642854   1m 11s  \n",
       "0  11475.137023  36.400445  0.043482  21.800672  950.478549   1m 45s  \n",
       "0  20416.899762  38.550843  0.004946  16.960230  977.839738    1m 9s  "
      ]
     },
     "metadata": {},
     "output_type": "display_data"
    }
   ],
   "source": [
    "LRTime = ['1m 11s', '1m 45s', '1m 9s']\n",
    "\n",
    "LRData = pd.concat([LR_Base, LR_Pollutant, LR_NOWD])\n",
    "LRData['Run Time'] = LRTime \n",
    "display(LRData)"
   ]
  },
  {
   "cell_type": "code",
   "execution_count": 52,
   "metadata": {},
   "outputs": [
    {
     "name": "stdout",
     "output_type": "stream",
     "text": [
      "['Hour', 'rain', 'temp', 'msl', 'wdsp', 'wddir', 'Ozone']\n",
      "Best CV score = -0.026:\n",
      "Best parameters:  {'reduce_dim': FactorAnalysis(copy=True, iterated_power=3, max_iter=1000, n_components=7,\n",
      "               noise_variance_init=None, random_state=0,\n",
      "               svd_method='randomized', tol=0.01), 'reduce_dim__n_components': 7}\n"
     ]
    },
    {
     "name": "stderr",
     "output_type": "stream",
     "text": [
      "C:\\Users\\User\\Anaconda3\\lib\\site-packages\\sklearn\\svm\\base.py:193: FutureWarning: The default value of gamma will change from 'auto' to 'scale' in version 0.22 to account better for unscaled features. Set gamma explicitly to 'auto' or 'scale' to avoid this warning.\n",
      "  \"avoid this warning.\", FutureWarning)\n"
     ]
    },
    {
     "data": {
      "image/png": "[encoded data removed]",
      "text/plain": [
       "<Figure size 432x288 with 1 Axes>"
      ]
     },
     "metadata": {
      "needs_background": "light"
     },
     "output_type": "display_data"
    },
    {
     "name": "stdout",
     "output_type": "stream",
     "text": [
      "Wall time: 5.61 s\n"
     ]
    }
   ],
   "source": [
    "%%time\n",
    "SVM_Base = SVM('SVM', Basedf, '2018-2019', 0, 0, 7, 0.3, 'None')"
   ]
  },
  {
   "cell_type": "code",
   "execution_count": 53,
   "metadata": {},
   "outputs": [
    {
     "name": "stdout",
     "output_type": "stream",
     "text": [
      "['Hour', 'rain', 'temp', 'msl', 'wdsp', 'wddir', 'NO2', 'SO2', 'Ozone', 'CO']\n"
     ]
    },
    {
     "name": "stderr",
     "output_type": "stream",
     "text": [
      "C:\\Users\\User\\Anaconda3\\lib\\site-packages\\sklearn\\svm\\base.py:193: FutureWarning: The default value of gamma will change from 'auto' to 'scale' in version 0.22 to account better for unscaled features. Set gamma explicitly to 'auto' or 'scale' to avoid this warning.\n",
      "  \"avoid this warning.\", FutureWarning)\n"
     ]
    },
    {
     "name": "stdout",
     "output_type": "stream",
     "text": [
      "Best CV score = -0.019:\n",
      "Best parameters:  {'reduce_dim': TruncatedSVD(algorithm='arpack', n_components=10, n_iter=5, random_state=None,\n",
      "             tol=0.0), 'reduce_dim__n_components': 10}\n"
     ]
    },
    {
     "name": "stderr",
     "output_type": "stream",
     "text": [
      "C:\\Users\\User\\Anaconda3\\lib\\site-packages\\sklearn\\svm\\base.py:193: FutureWarning: The default value of gamma will change from 'auto' to 'scale' in version 0.22 to account better for unscaled features. Set gamma explicitly to 'auto' or 'scale' to avoid this warning.\n",
      "  \"avoid this warning.\", FutureWarning)\n"
     ]
    },
    {
     "data": {
      "image/png": "[encoded data removed]",
      "text/plain": [
       "<Figure size 432x288 with 1 Axes>"
      ]
     },
     "metadata": {
      "needs_background": "light"
     },
     "output_type": "display_data"
    },
    {
     "name": "stdout",
     "output_type": "stream",
     "text": [
      "Wall time: 6.21 s\n"
     ]
    }
   ],
   "source": [
    "%%time\n",
    "SVM_Pollutant = SVM('SVM', Pollutantdf, '2018-2019', 0, 0, 10, 0.3, 'NO2, SO2, CO')"
   ]
  },
  {
   "cell_type": "code",
   "execution_count": 54,
   "metadata": {},
   "outputs": [
    {
     "name": "stdout",
     "output_type": "stream",
     "text": [
      "['Hour', 'rain', 'temp', 'msl', 'NO2', 'SO2', 'Ozone', 'CO']\n",
      "Best CV score = -0.021:\n",
      "Best parameters:  {'reduce_dim': FactorAnalysis(copy=True, iterated_power=3, max_iter=1000, n_components=8,\n",
      "               noise_variance_init=None, random_state=0, svd_method='lapack',\n",
      "               tol=0.01), 'reduce_dim__n_components': 8}\n"
     ]
    },
    {
     "name": "stderr",
     "output_type": "stream",
     "text": [
      "C:\\Users\\User\\Anaconda3\\lib\\site-packages\\sklearn\\svm\\base.py:193: FutureWarning: The default value of gamma will change from 'auto' to 'scale' in version 0.22 to account better for unscaled features. Set gamma explicitly to 'auto' or 'scale' to avoid this warning.\n",
      "  \"avoid this warning.\", FutureWarning)\n"
     ]
    },
    {
     "data": {
      "image/png": "[encoded data removed]",
      "text/plain": [
       "<Figure size 432x288 with 1 Axes>"
      ]
     },
     "metadata": {
      "needs_background": "light"
     },
     "output_type": "display_data"
    },
    {
     "name": "stdout",
     "output_type": "stream",
     "text": [
      "Wall time: 5.2 s\n"
     ]
    }
   ],
   "source": [
    "%%time\n",
    "SVM_NOWD = SVM('SVM', dfnowd, '2018-2019', 0, 0, 8, 0.3, 'NO WIND')"
   ]
  },
  {
   "cell_type": "markdown",
   "metadata": {},
   "source": [
    "# Combine all the Statistics and save results to a CSV file"
   ]
  },
  {
   "cell_type": "code",
   "execution_count": null,
   "metadata": {},
   "outputs": [],
   "source": [
    "CombinedStats = pd.concat([RFData, GBData, MLPData, LRData, SVMData])\n",
    "\n",
    "\n",
    "display(CombinedStats)\n"
   ]
  },
  {
   "cell_type": "code",
   "execution_count": null,
   "metadata": {},
   "outputs": [],
   "source": [
    "def AlgorithmTable(Data, Name):\n",
    "    Dataf = Data\n",
    "    \n",
    "    Dataf = Dataf[Data['Algorithm'] == Name]\n",
    "    \n",
    "    return Dataf\n",
    "                 \n",
    "RF = AlgorithmTable(CombinedStats, 'Random Forest')\n",
    "GB = AlgorithmTable(CombinedStats, 'Gradient Boosting')\n",
    "MLP = AlgorithmTable(CombinedStats, 'ANN')\n",
    "LR = AlgorithmTable(CombinedStats, 'Linear Regression')\n",
    "SVM = AlgorithmTable(CombinedStats, 'SVM')\n",
    "\n",
    "\n",
    "display(RF)\n",
    "display(GB)\n",
    "display(MLP)\n",
    "display(LR)\n",
    "display(SVM)"
   ]
  },
  {
   "cell_type": "code",
   "execution_count": null,
   "metadata": {},
   "outputs": [],
   "source": [
    "CombinedStats.to_csv('Cork All PM10 Results.csv', index=False)"
   ]
  }
 ],
 "metadata": {
  "kernelspec": {
   "display_name": "Python 3",
   "language": "python",
   "name": "python3"
  },
  "language_info": {
   "codemirror_mode": {
    "name": "ipython",
    "version": 3
   },
   "file_extension": ".py",
   "mimetype": "text/x-python",
   "name": "python",
   "nbconvert_exporter": "python",
   "pygments_lexer": "ipython3",
   "version": "3.7.3"
  }
 },
 "nbformat": 4,
 "nbformat_minor": 2
}
